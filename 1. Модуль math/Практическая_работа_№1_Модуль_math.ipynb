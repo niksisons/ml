{
  "nbformat": 4,
  "nbformat_minor": 0,
  "metadata": {
    "colab": {
      "provenance": [],
      "collapsed_sections": [
        "nLwGZB0cl6Px"
      ],
      "toc_visible": true,
      "include_colab_link": true
    },
    "kernelspec": {
      "name": "python3",
      "display_name": "Python 3"
    },
    "language_info": {
      "name": "python"
    }
  },
  "cells": [
    {
      "cell_type": "markdown",
      "metadata": {
        "id": "view-in-github",
        "colab_type": "text"
      },
      "source": [
        "<a href=\"https://colab.research.google.com/github/niksisons/ml/blob/main/1.%20%D0%9C%D0%BE%D0%B4%D1%83%D0%BB%D1%8C%20math/%D0%9F%D1%80%D0%B0%D0%BA%D1%82%D0%B8%D1%87%D0%B5%D1%81%D0%BA%D0%B0%D1%8F_%D1%80%D0%B0%D0%B1%D0%BE%D1%82%D0%B0_%E2%84%961_%D0%9C%D0%BE%D0%B4%D1%83%D0%BB%D1%8C_math.ipynb\" target=\"_parent\"><img src=\"https://colab.research.google.com/assets/colab-badge.svg\" alt=\"Open In Colab\"/></a>"
      ]
    },
    {
      "cell_type": "markdown",
      "source": [
        "### Задание 1: Решение квадратного уравнения"
      ],
      "metadata": {
        "id": "5RnujUcdXQsu"
      }
    },
    {
      "cell_type": "markdown",
      "source": [
        "Напишите функцию для решения квадратного уравнения вида $ax^2 + bx + c = 0$.\n",
        "\n",
        "Программа должна запросить у пользователя значения коэффициентов $a$, $b$, и $c$, вычислить дискриминант по формуле $D = b^2 - 4ac$, а затем найти корни уравнения. Используйте функции `sqrt` и `pow` из библиотеки `math`."
      ],
      "metadata": {
        "id": "ON9A-LvlXV_T"
      }
    },
    {
      "cell_type": "markdown",
      "source": [
        "Примеры листинга программы:\n",
        "\n",
        "\n",
        "\n",
        "```\n",
        "Введите коэффициент a: 1\n",
        "Введите коэффициент b: -2\n",
        "Введите коэффициент c: 1\n",
        "Уравнение имеет один корень: x = 1.0\n",
        "```\n",
        "\n",
        "\n",
        "\n",
        "```\n",
        "Введите коэффициент a: 1\n",
        "Введите коэффициент b: -3\n",
        "Введите коэффициент c: 2\n",
        "Уравнение имеет два корня: x1 = 2.0, x2 = 1.0\n",
        "```\n",
        "\n",
        "```\n",
        "Введите коэффициент a: 1\n",
        "Введите коэффициент b: 2\n",
        "Введите коэффициент c: 3\n",
        "Корней нет\n",
        "```\n"
      ],
      "metadata": {
        "id": "pkFrJTHxb-jx"
      }
    },
    {
      "cell_type": "code",
      "source": [
        "from math import sqrt\n",
        "def D (a,b,c):\n",
        "  d = b**2 - 4*a*c\n",
        "  print(d)\n",
        "  return d\n",
        "\n",
        "def Solution(a,b,c):\n",
        "  d = D(a,b,c)\n",
        "  if d<0:\n",
        "    return None\n",
        "  elif d==0:\n",
        "    x1 = -b/(2*a)\n",
        "    x2 = x1\n",
        "    return x1,x2\n",
        "  else:\n",
        "    x1 = (-b-sqrt(d))/(2*a)\n",
        "    x2 = (-b+sqrt(d))/(2*a)\n",
        "    return x1,x2\n",
        "\n",
        "def Show(a,b,c):\n",
        "  Ans = Solution(a,b,c)\n",
        "  if Ans == None:\n",
        "    print (\"нет корней\")\n",
        "  elif Ans[0] == Ans[1]:\n",
        "    print (f\"Один корень: {Ans[0]}\")\n",
        "  else:\n",
        "    print (f\"два корня: {Ans[0]} и {Ans [1]}\")\n",
        "\n",
        "a = int(1)\n",
        "b = int(-3)\n",
        "c = int(2)\n",
        "Show(a,b,c)"
      ],
      "metadata": {
        "id": "_-P5nt8tXTNv",
        "colab": {
          "base_uri": "https://localhost:8080/"
        },
        "outputId": "180a9c3e-bd05-45a2-d959-ff8a11822cbb"
      },
      "execution_count": 3,
      "outputs": [
        {
          "output_type": "stream",
          "name": "stdout",
          "text": [
            "1\n",
            "два корня: 1.0 и 2.0\n"
          ]
        }
      ]
    },
    {
      "cell_type": "markdown",
      "source": [
        "\n",
        "\n",
        "### Задание 2: Расчет интеграла методом трапеций\n",
        "Реализуйте функцию для вычисления определенного интеграла функции $f(x)$, используя метод трапеций. Функция $f(x)$ задается внутри вашей программы (например, $f(x) = x^2$), а интервал интегрирования и количество разбиений задаются пользователем. Используйте базовые операции Python и функции из библиотеки `math` для вычислений.\n",
        "\n",
        "\n",
        "\n",
        "\n",
        "\n"
      ],
      "metadata": {
        "id": "SJjSHhMTPk-K"
      }
    },
    {
      "cell_type": "markdown",
      "source": [
        "Чтобы написать программу для вычисления определенного интеграла функции $f(x)$ методом трапеций, следуйте этому алгоритму:\n",
        "\n",
        "*Шаг 1*: Определение целевой функции\n",
        "  Определите функцию $f(x)$, значение которой вы хотите интегрировать. Например, $f(x) = x^2$.\n",
        "\n",
        "\n",
        "*Шаг 2*: Реализация метода трапеций\n",
        "1. Создайте функцию для вычисления интеграла, например, с именем `trapezoidal_integral`, которая принимает четыре аргумента: функцию `f`, начало интервала `a`, конец интервала `b` и количество разбиений `n`.\n",
        "2. В этой функции, рассчитайте ширину одного разбиения $h = \\frac{b - a}{n}$.\n",
        "3. Инициализируйте переменную для хранения суммы значений, например, `integral`, начальным значением которой будет среднее арифметическое значений функции на концах интервала, умноженное на $h$ и деленное на 2.\n",
        "4. Используйте цикл `for` для перебора всех точек разбиения (кроме первой и последней), добавляя в `integral` значение функции в каждой точке, умноженное на $h$.\n",
        "5. После завершения цикла, верните полученное значение интеграла."
      ],
      "metadata": {
        "id": "vv5aTieQajgD"
      }
    },
    {
      "cell_type": "code",
      "source": [
        "from math import sqrt, pi, sin, pow\n",
        "def f(x):\n",
        "  return sin(x)\n",
        "\n",
        "def trapezoidal_integral(a,b,n):\n",
        "  h = (b-a)/n\n",
        "\n",
        "  integral = (f(a)+f(b))*h/2\n",
        "\n",
        "  for i in range(1,n):\n",
        "    x = a+h*i\n",
        "    integral += f(x)*h\n",
        "\n",
        "  return integral\n",
        "\n",
        "print(trapezoidal_integral(0,pi,1000))"
      ],
      "metadata": {
        "id": "ieN0p64UYDRj",
        "colab": {
          "base_uri": "https://localhost:8080/"
        },
        "outputId": "7891ec9f-9b7c-4a53-dd3b-960a1cc31747"
      },
      "execution_count": 13,
      "outputs": [
        {
          "output_type": "stream",
          "name": "stdout",
          "text": [
            "1.9999983550656637\n"
          ]
        }
      ]
    },
    {
      "cell_type": "markdown",
      "source": [
        "Проверка:\n",
        "\n",
        "Функция: $f(x) = x^2$\n",
        "\n",
        "```\n",
        "Входные данные:\n",
        "\n",
        "a = 0  # Начало интервала\n",
        "b = 1  # Конец интервала\n",
        "n = 100  # Количество разбиений\n",
        "\n",
        "Значение интеграла: 0.33335000000000015\n",
        "```\n",
        "\n",
        "Функция: $f(x) = \\sin(x)$\n",
        "\n",
        "```\n",
        "Входные данные:\n",
        "\n",
        "a = 0  # Начало интервала\n",
        "b = PI  # Конец интервала\n",
        "n = 1000  # Количество разбиений\n",
        "\n",
        "Значение интеграла: ~1.9999983550656637\n",
        "```\n",
        "\n"
      ],
      "metadata": {
        "id": "5pLFAgLcdE5Y"
      }
    },
    {
      "cell_type": "markdown",
      "source": [
        "### Задание 3: Нахождение корней уравнения методом бисекции\n",
        "Разработайте программу для нахождения корня уравнения $f(x) = 0$ на заданном интервале с заданной точностью, используя метод бисекции. Функция $f(x)$ задается внутри программы (например, $f(x) = x^3 - x - 2$), а интервал поиска корня (начало и конец интервала) и точность задаются пользователем. Для вычислений используйте базовые операции Python и функции из библиотеки `math`.\n",
        "\n",
        "\n"
      ],
      "metadata": {
        "id": "525gZFYHYD1_"
      }
    },
    {
      "cell_type": "markdown",
      "source": [
        "**Метод бисекции** — это простой численный метод для нахождения корня функции, который заключается в последовательном делении пополам интервала, на концах которого значения функции имеют разные знаки. Алгоритм метода следующий:\n",
        "\n",
        "1. Проверяем, что на концах интервала [a, b] значения функции имеют разные знаки, т.е. $f(a) \\cdot f(b) < 0$. Если это условие не выполняется, метод бисекции не применим.\n",
        "2. Вычисляем середину интервала $c = \\frac{a + b}{2}$ и проверяем значение функции в этой точке ($f(c)$).\n",
        "3. Если $f(c) = 0$ или длина интервала $\\frac{b - a}{2}$ меньше заданной точности, то корень найден.\n",
        "4. Если $f(c) \\neq 0$, выбираем подинтервал [a, c] или [c, b], на концах которого значения функции имеют разные знаки, и повторяем шаги 2-4."
      ],
      "metadata": {
        "id": "deeMps2EZg6z"
      }
    },
    {
      "cell_type": "code",
      "source": [
        "def f(x):\n",
        "    return x**3 - x - 2  # Пример функции f(x) = x^3 - x - 2\n",
        "\n",
        "def bisection_method(a, b, tol):\n",
        "    if f(a) * f(b) >= 0:\n",
        "        print(\"Ошибка: f(a) и f(b) должны иметь разные знаки.\")\n",
        "        return None\n",
        "\n",
        "    while (b - a) / 2 > tol:\n",
        "        c = (a + b) / 2\n",
        "        if f(c) == 0:\n",
        "            return c\n",
        "        elif f(a) * f(c) < 0:\n",
        "            b = c\n",
        "        else:\n",
        "            a = c\n",
        "\n",
        "    return (a + b) / 2\n",
        "\n",
        "a = float(1)\n",
        "b = float(2)\n",
        "tol = float(0.001)\n",
        "\n",
        "root = bisection_method(a, b, tol)\n",
        "\n",
        "if root is not None:\n",
        "    print(f\"Приближенное значение корня: {root}\")"
      ],
      "metadata": {
        "id": "-aNXlcMlXQZc",
        "colab": {
          "base_uri": "https://localhost:8080/"
        },
        "outputId": "fce55670-1a79-49a8-ec65-7a9774681cdc"
      },
      "execution_count": 16,
      "outputs": [
        {
          "output_type": "stream",
          "name": "stdout",
          "text": [
            "Приближенное значение корня: 1.5205078125\n"
          ]
        }
      ]
    },
    {
      "cell_type": "markdown",
      "source": [
        "Примеры листинга программы:\n",
        "\n",
        "\n",
        "\n",
        "```\n",
        "Введите начало интервала a: 1\n",
        "Введите конец интервала b: 2\n",
        "Введите точность (например, 0.001): 0.001\n",
        "Найден корень: ~1.521484375\n",
        "```"
      ],
      "metadata": {
        "id": "MxcTpremfxGq"
      }
    },
    {
      "cell_type": "markdown",
      "source": [
        "### Задание 4: Расчет сложных процентов\n",
        "\n",
        "Написать программу для расчета итоговой суммы депозита, если известны первоначальная сумма, годовая процентная ставка и срок вклада в годах. Использовать формулу сложных процентов с ежедневной капитализацией.\n",
        "\n",
        "**Формула**: $A = P \\cdot exp(rt)$, где $P$ - первоначальная сумма, $r$ - годовая процентная ставка (в десятичной дроби), $t$ - срок вклада в годах, $A$ - итоговая сумма."
      ],
      "metadata": {
        "id": "N226OfIShWQ9"
      }
    },
    {
      "cell_type": "code",
      "source": [
        "from math import exp\n",
        "\n",
        "def compound_interest(P,r,t):\n",
        "  A = P*exp(r*t)\n",
        "  return A\n",
        "\n",
        "P = int(10000)\n",
        "r = float(0.05)\n",
        "t = int(2)\n",
        "print(compound_interest(P,r,t))"
      ],
      "metadata": {
        "id": "4WPiyJBLjUMB",
        "colab": {
          "base_uri": "https://localhost:8080/"
        },
        "outputId": "43be917d-7783-459b-e0f7-173d6856e130"
      },
      "execution_count": 17,
      "outputs": [
        {
          "output_type": "stream",
          "name": "stdout",
          "text": [
            "11051.709180756478\n"
          ]
        }
      ]
    },
    {
      "cell_type": "markdown",
      "source": [
        "\n",
        "\n",
        "```\n",
        "# Пример входных данных\n",
        "P = 10000  # первоначальная сумма\n",
        "r = 0.05   # годовая процентная ставка в десятичной форме\n",
        "t = 2      # срок вклада в годах\n",
        "\n",
        "# Пример выходных данных\n",
        "Итоговая сумма депозита: 11051.71\n",
        "```\n",
        "\n"
      ],
      "metadata": {
        "id": "v0KFWVCIzvh2"
      }
    },
    {
      "cell_type": "markdown",
      "source": [
        "### Задание 5: Расчет годового процента по заданной итоговой сумме\n",
        "\n",
        "Написать программу, которая рассчитывает годовую процентную ставку по формуле сложных процентов, зная первоначальную сумму, итоговую сумму и срок вклада.\n",
        "\n",
        "**Формула**: $r = \\frac{1}{t} \\cdot log(\\frac{A}{P})$, где $P$ - первоначальная сумма, $A$ - итоговая сумма, $t$ - срок вклада в годах, $r$ - годовая процентная ставка.\n",
        "\n"
      ],
      "metadata": {
        "id": "uZg7DKODbYJt"
      }
    },
    {
      "cell_type": "code",
      "source": [
        "from math import log\n",
        "def procent(P,A,t):\n",
        "  r=log(A/P)/t\n",
        "  return r\n",
        "\n",
        "P = float(input(\"Введите первоначальную сумму (P): \"))\n",
        "A = float(input(\"Введите итоговую сумму (A): \"))\n",
        "t = float(input(\"Введите срок вклада в годах (t): \"))\n",
        "print (f'Годовая процентная ставка: {procent(P,A,t)*100:.2f}%')"
      ],
      "metadata": {
        "id": "MGnRI9j4jV0i",
        "colab": {
          "base_uri": "https://localhost:8080/"
        },
        "outputId": "5b5acac1-86ca-4a78-bb9c-fb28a12b3160"
      },
      "execution_count": 19,
      "outputs": [
        {
          "output_type": "stream",
          "name": "stdout",
          "text": [
            "10000\n",
            "11051.71\n",
            "2\n",
            "Годовая процентная ставка: 5.00%\n"
          ]
        }
      ]
    },
    {
      "cell_type": "markdown",
      "source": [
        "\n",
        "\n",
        "```\n",
        "# Пример входных данных\n",
        "P = 10000  # первоначальная сумма\n",
        "A = 11051.71  # итоговая сумма\n",
        "t = 2  # срок вклада в годах\n",
        "\n",
        "# Пример выходных данных\n",
        "Годовая процентная ставка: 5.00%\n",
        "\n",
        "```\n",
        "\n"
      ],
      "metadata": {
        "id": "NrGyrUpJ1ol8"
      }
    },
    {
      "cell_type": "markdown",
      "source": [
        "### Задание 6: Вычисление квадратного корня при помощи итерационных методов\n",
        "\n",
        "Написать программу, которая использует метод Ньютона (метод касательных) для нахождения квадратного корня из числа, введенного пользователем. Сравнить результат с результатом, полученным при помощи функции `sqrt()`.\n",
        "\n",
        "**Формула метода Ньютона**: $x_{n+1} = \\frac{1}{2}(x_n + \\frac{a}{x_n})$, где $a$- это число, из которого мы хотим извлечь квадратный корень.\n",
        "\n",
        "Метод Ньютона (или метод касательных) - это численный метод нахождения корней уравнений. В случае извлечения квадратного корня из числа $a$, мы используем его для решения уравнения $x^2 - a = 0$."
      ],
      "metadata": {
        "id": "ISJbONDvh7yk"
      }
    },
    {
      "cell_type": "markdown",
      "source": [
        "Алгоритм:\n",
        "\n",
        "1. Напишите функцию `sqrt_newton_method(a, epsilon=1e-10)`, которая будет вычислять квадратный корень из числа `a` с заданной точностью `epsilon`, используя метод Ньютона.\n",
        "\n",
        "   Шаги для реализации метода Ньютона:\n",
        "   - Инициализируйте начальное приближение `x` значением `a`.\n",
        "   - В цикле выполняйте следующие шаги, пока разница между последовательными приближениями не станет меньше `epsilon`:\n",
        "     - Вычислите следующее приближение по формуле `next_x = 0.5 * (x + a / x)`.\n",
        "     - Проверьте условие остановки: если `abs(x - next_x) < epsilon`, выйдите из цикла.\n",
        "     - Обновите текущее приближение `x` значением `next_x`.\n",
        "   - Верните последнее вычисленное приближение `x` как результат функции.\n",
        "\n",
        "2. Напишите функцию `main()`, в которой реализуйте следующую логику:\n",
        "   - Спросите у пользователя число `a` для извлечения квадратного корня, используя ввод с клавиатуры.\n",
        "   - Вызовите функцию `sqrt_newton_method(a)` для вычисления квадратного корня из числа `a` методом Ньютона и сохраните результат в переменной.\n",
        "   - Выведите полученный квадратный корень на экран.\n",
        "   - Вычислите квадратный корень из числа `a`, используя стандартную функцию `sqrt` из модуля `math`, и сохраните результат в другой переменной.\n",
        "   - Выведите полученный квадратный корень на экран.\n",
        "   - Сравните результаты, полученные двумя методами, выведите разницу между ними на экран."
      ],
      "metadata": {
        "id": "Uy7qlc1Vi0ZF"
      }
    },
    {
      "cell_type": "code",
      "source": [
        "from math import sqrt\n",
        "\n",
        "def sqrt_newton_method(a, epsilon=1e-15):\n",
        "  x = a\n",
        "  while True:\n",
        "    next_x = 0.5 * (x + a / x)\n",
        "    if abs(x - next_x) < epsilon:\n",
        "      return x\n",
        "    x = next_x\n",
        "\n",
        "def main():\n",
        "  a = int(input())\n",
        "  N_sqrt = sqrt_newton_method(a)\n",
        "  print(f'Квадратный корень из {a} методом Ньютона:{N_sqrt}')\n",
        "  M_sqrt = sqrt(a)\n",
        "  print(f'Квадратный корень из {a} методом Ньютона:{M_sqrt}')\n",
        "  print(f'Разница между методами: {abs(N_sqrt-M_sqrt)}')\n",
        "main()"
      ],
      "metadata": {
        "id": "euhduGDljXqb",
        "colab": {
          "base_uri": "https://localhost:8080/"
        },
        "outputId": "a09e7344-ed89-48ae-a687-47e825be8f32"
      },
      "execution_count": 21,
      "outputs": [
        {
          "output_type": "stream",
          "name": "stdout",
          "text": [
            "2\n",
            "Квадратный корень из 2 методом Ньютона:1.414213562373095\n",
            "Квадратный корень из 2 методом Ньютона:1.4142135623730951\n",
            "Разница между методами: 2.220446049250313e-16\n"
          ]
        }
      ]
    },
    {
      "cell_type": "markdown",
      "source": [
        "\n",
        "\n",
        "```\n",
        "# Пример 1\n",
        "# Входные данные:\n",
        "Введите число для извлечения квадратного корня: 25\n",
        "\n",
        "# Выходные данные:\n",
        "Квадратный корень из 25 методом Ньютона: 5.0\n",
        "Квадратный корень из 25 стандартной функцией: 5.0\n",
        "Разница между методами: 0.0\n",
        "\n",
        "# Пример 2\n",
        "# Входные данные:\n",
        "Введите число для извлечения квадратного корня: 2\n",
        "\n",
        "# Выходные данные:\n",
        "Квадратный корень из 2 методом Ньютона: 1.414213562373095\n",
        "Квадратный корень из 2 стандартной функцией: 1.4142135623730951\n",
        "Разница между методами: 2.220446049250313e-16```\n",
        "\n"
      ],
      "metadata": {
        "id": "2q029pUP2J3V"
      }
    },
    {
      "cell_type": "markdown",
      "source": [
        "### Задание 7: Расчет угла между двумя векторами\n",
        "\n",
        "Даны два вектора $A(x_1, y_1)$ и $B(x_2, y_2)$. Написать программу на Python, которая вычисляет угол между этими векторами.\n",
        "\n",
        "**Формула**: Угол между векторами можно вычислить, используя формулу:\n",
        "$\\theta = \\arccos\\left(\\frac{A \\cdot B}{|A| |B|}\\right) $\n",
        "где $(A \\cdot B = x_1x_2 + y_1y_2$) - скалярное произведение векторов, $(|A| = \\sqrt{x_1^2 + y_1^2}$) и $(|B| = \\sqrt{x_2^2 + y_2^2}$) - длины векторов $(A$) и $(B$) соответственно."
      ],
      "metadata": {
        "id": "hEGfd1Uajt4L"
      }
    },
    {
      "cell_type": "code",
      "source": [
        "from math import acos, sqrt, degrees\n",
        "def Vectors_angle(A,B):\n",
        "  ans = acos(scal(A,B)/V_len(A,B))\n",
        "  return ans\n",
        "def scal(A,B):\n",
        "  print (f'скаляр {A[0]*B[0]+A[1]*B[1]}')\n",
        "  return A[0]*B[0]+A[1]*B[1]\n",
        "def V_len(A,B):\n",
        "  A_len = sqrt(A[0]**2 + A[1]**2)\n",
        "  B_len = sqrt(B[0]**2 + B[1]**2)\n",
        "  return A_len * B_len\n",
        "\n",
        "A = (3, 0)\n",
        "B = (0, 4)\n",
        "print(f'Угол между А и В: {degrees(Vectors_angle(A,B))} градусов')\n",
        "A = (5, 5)\n",
        "B = (5, 5)\n",
        "#получится угол близкий к 0 -> 0.0000008537736462515939\n",
        "print(f'Угол между А и В: {degrees(Vectors_angle(A,B))} градусов')\n",
        "A = (2, 3)\n",
        "B = (4, -1)\n",
        "print(f'Угол между А и В: {degrees(Vectors_angle(A,B))} градусов')"
      ],
      "metadata": {
        "id": "VkNn7RGdj7cF",
        "colab": {
          "base_uri": "https://localhost:8080/"
        },
        "outputId": "b5c03ccd-3e0f-4bc6-f41e-cd2726a072a3"
      },
      "execution_count": 22,
      "outputs": [
        {
          "output_type": "stream",
          "name": "stdout",
          "text": [
            "скаляр 0\n",
            "Угол между А и В: 90.0 градусов\n",
            "скаляр 50\n",
            "Угол между А и В: 8.537736462515939e-07 градусов\n",
            "скаляр 5\n",
            "Угол между А и В: 70.3461759419467 градусов\n"
          ]
        }
      ]
    },
    {
      "cell_type": "markdown",
      "source": [
        "```\n",
        "# Пример 1:\n",
        "# Входные данные\n",
        "Вектор A с координатами (3, 0)\n",
        "Вектор B с координатами (0, 4)\n",
        "\n",
        "# Выходные данные\n",
        "Угол между векторами: 90.0 градусов\n",
        "\n",
        "# Пример 2:\n",
        "# Входные данные\n",
        "Вектор A с координатами (5, 5)\n",
        "Вектор B с координатами (5, 5)\n",
        "\n",
        "# Выходные данные\n",
        "Угол между векторами: 0.0 градусов\n",
        "\n",
        "# Пример 3:\n",
        "# Входные данные\n",
        "Вектор A с координатами (2, 3)\n",
        "Вектор B с координатами (4, -1)\n",
        "\n",
        "# Выходные данные\n",
        "Угол между векторами: приблизительно 70.3461759419467 градусов\n",
        "```"
      ],
      "metadata": {
        "id": "zzvx_2hE3APe"
      }
    },
    {
      "cell_type": "markdown",
      "source": [
        "### Задание 8: Расчет координат точки на окружности\n",
        "\n",
        "Дана окружность с центром в точке $O(0, 0)$ и радиусом $R$, и угол $\\theta$ в градусах, отсчитываемый от положительного направления оси X. Написать программу на Python для расчета координат точки $P(x, y)$, находящейся на этой окружности.\n",
        "\n",
        "**Формула**: Координаты точки $P$ можно вычислить следующим образом:\n",
        "$x = R \\cdot \\cos(\\theta_{рад})$,\n",
        "$y = R \\cdot \\sin(\\theta_{рад})$,\n",
        "где $\\theta_{рад}$ - угол в радианах, который можно вычислить, используя функцию перевода из градусов в радианы, что была упомянута в теории."
      ],
      "metadata": {
        "id": "OyehGOeQfO1h"
      }
    },
    {
      "cell_type": "code",
      "source": [
        "from math import radians, cos, sin\n",
        "def P(R, theta):\n",
        "  x = R * cos(radians(theta))\n",
        "  y = R * sin(radians(theta))\n",
        "  return x, y\n",
        "print (f'Координаты точки P:{P(5, 45)}')\n",
        "print (f'Координаты точки P:{P(10, 90)}')\n",
        "print (f'Координаты точки P:{P(1, 0)}')"
      ],
      "metadata": {
        "id": "mqM7J6bvtHTD",
        "colab": {
          "base_uri": "https://localhost:8080/"
        },
        "outputId": "830c87bb-5bda-4f4f-9e88-4ded3db33d5d"
      },
      "execution_count": 23,
      "outputs": [
        {
          "output_type": "stream",
          "name": "stdout",
          "text": [
            "Координаты точки P:(3.5355339059327378, 3.5355339059327373)\n",
            "Координаты точки P:(6.123233995736766e-16, 10.0)\n",
            "Координаты точки P:(1.0, 0.0)\n"
          ]
        }
      ]
    },
    {
      "cell_type": "markdown",
      "source": [
        "\n",
        "\n",
        "```\n",
        "# Пример входных-выходных данных\n",
        "\n",
        "# Пример 1\n",
        "# Входные данные:\n",
        "Радиус R = 5\n",
        "Угол theta = 45 градусов\n",
        "\n",
        "# Выходные данные:\n",
        "Координаты точки P: (3.5355339059327378, 3.5355339059327378)\n",
        "\n",
        "# Пример 2\n",
        "# Входные данные:\n",
        "Радиус R = 10\n",
        "Угол theta = 90 градусов\n",
        "\n",
        "# Выходные данные:\n",
        "Координаты точки P: (0.0, 10.0)\n",
        "\n",
        "# Пример 3\n",
        "# Входные данные:\n",
        "Радиус R = 1\n",
        "Угол theta = 0 градусов\n",
        "\n",
        "# Выходные данные:\n",
        "Координаты точки P: (1.0, 0.0)\n",
        "\n",
        "```\n",
        "\n"
      ],
      "metadata": {
        "id": "vf0bV5gp6srb"
      }
    },
    {
      "cell_type": "markdown",
      "source": [
        "### Задание 9: Вычисление вероятности ошибки в теории вероятностей\n",
        "\n",
        "В теории вероятностей функция ошибок `erf(x)` часто используется для вычисления вероятностей, связанных с нормально распределенными случайными переменными. Напишите программу на Python, которая использует `math.erf(x)` для вычисления вероятности того, что случайная величина $Z$, следующая стандартному нормальному распределению, окажется в интервале от $-x$ до $x$.\n",
        "\n",
        "**Формула**:\n",
        "$P(-x \\leq Z \\leq x) = \\frac{1}{2} \\left[ \\text{erf}\\left(\\frac{x}{\\sqrt{2}}\\right) - \\text{erf}\\left(\\frac{-x}{\\sqrt{2}}\\right) \\right]$"
      ],
      "metadata": {
        "id": "7nd3IQvSlWfi"
      }
    },
    {
      "cell_type": "code",
      "source": [
        "from math import erf, sqrt\n",
        "def P(x):\n",
        "  ans = (erf(x / sqrt(2)) - erf(-x / sqrt(2)))/2\n",
        "  return ans\n",
        "\n",
        "x = int(input())\n",
        "print(f'вероятность = {P(x)}')"
      ],
      "metadata": {
        "id": "dYOYeIU_tKLs",
        "colab": {
          "base_uri": "https://localhost:8080/"
        },
        "outputId": "9e5c7f86-51eb-4367-f472-44c5a93a759a"
      },
      "execution_count": 24,
      "outputs": [
        {
          "output_type": "stream",
          "name": "stdout",
          "text": [
            "1\n",
            "вероятность = 0.6826894921370859\n"
          ]
        }
      ]
    },
    {
      "cell_type": "markdown",
      "source": [
        "\n",
        "\n",
        "```\n",
        "# Примеры входных и выходных данных\n",
        "\n",
        "# Входные данные: x = 1\n",
        "# Выходные данные: вероятность = 0.6826894921370859\n",
        "\n",
        "# Входные данные: x = 2\n",
        "# Выходные данные: вероятность = 0.9544997361036416\n",
        "\n",
        "# Входные данные: x = 0\n",
        "# Выходные данные: вероятность = 0.0\n",
        "```\n",
        "\n"
      ],
      "metadata": {
        "id": "g3zmjvBj7eky"
      }
    },
    {
      "cell_type": "markdown",
      "source": [
        "### Задание 10. Практическое применение: расчет объемов n-мерных сфер\n",
        "\n",
        "Гамма-функция находит применение в формуле для расчета объема n-мерной сферы радиуса R: $V_n(R) = \\frac{\\pi^{n/2} R^n}{\\Gamma(\\frac{n}{2} + 1)}$. Напишите функцию на Python, которая принимает в качестве параметров размерность пространства `n` и радиус `R`, а затем вычисляет и возвращает объем n-мерной сферы, используя гамма-функцию."
      ],
      "metadata": {
        "id": "H3oPpRd5j0Z2"
      }
    },
    {
      "cell_type": "code",
      "source": [
        "from math import gamma, pi\n",
        "def V (n,R):\n",
        "  ans = (pi**(n/2)*R**n)/gamma(n/2+1)\n",
        "  return ans\n",
        "\n",
        "n = int(input())\n",
        "R = int(input())\n",
        "print(f'Объем {n}-мерной сферы радиуса {R}:{V(n,R)}' )"
      ],
      "metadata": {
        "id": "5pPM-uJitV9-",
        "colab": {
          "base_uri": "https://localhost:8080/"
        },
        "outputId": "6c122797-37e0-46e3-f3fd-ba89155cd36f"
      },
      "execution_count": 25,
      "outputs": [
        {
          "output_type": "stream",
          "name": "stdout",
          "text": [
            "2\n",
            "1\n",
            "Объем 2-мерной сферы радиуса 1:3.141592653589793\n"
          ]
        }
      ]
    },
    {
      "cell_type": "markdown",
      "source": [
        "```\n",
        "# Примеры входных и выходных данных\n",
        "# Пример 1\n",
        "# Входные данные:\n",
        "n1 = 2\n",
        "R1 = 1\n",
        "# Выходные данные:\n",
        "Объем 2-мерной сферы радиуса 1: 3.141592653589793\n",
        "\n",
        "# Пример 2\n",
        "# Входные данные:\n",
        "n2 = 3\n",
        "R2 = 1\n",
        "# Выходные данные:\n",
        "Объем 3-мерной сферы радиуса 1: 4.1887902047863905\n",
        "\n",
        "# Пример 3\n",
        "# Входные данные:\n",
        "n3 = 10\n",
        "R3 = 2\n",
        "# Выходные данные:\n",
        "Объем 10-мерной сферы радиуса 2: 2611.3679768344014\n",
        "\n",
        "```"
      ],
      "metadata": {
        "id": "E0_SrXl-9HuZ"
      }
    },
    {
      "cell_type": "markdown",
      "source": [
        "### **Комплексное задание: Анализ функций и их применение**\n",
        "\n",
        "**Цель задания:** Применить различные математические функции из модуля `math` в Python, включая округление и сравнение, экспоненциальные и логарифмические функции, а также тригонометрические функции и их обратные аналоги.\n",
        "\n",
        "**Задача:** Вы разрабатываете программу для анализа погодных условий на различных планетах. Программа должна учитывать угол падения солнечных лучей, интенсивность солнечного света и атмосферное давление, чтобы рассчитать эффективную температуру на поверхности планеты в определенный момент времени.\n",
        "\n",
        "1. **Исходные данные:**\n",
        "    - Угол падения солнечных лучей к поверхности (в градусах) (a).\n",
        "    - Интенсивность солнечного света (в ваттах на квадратный метр) \\( I \\).\n",
        "    - Атмосферное давление на уровне моря (в паскалях) \\( P \\).\n",
        "\n",
        "2. **Расчеты:**\n",
        "\n",
        "    a. Используйте тригонометрические функции (`math.sin`, `math.cos`) для расчета эффективного угла падения солнечных лучей в радианах:\n",
        "    \n",
        "      ![image.png](data:image/png;base64,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)\n",
        "      \n",
        "      ![image.png](data:image/png;base64,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)\n",
        "\n",
        "    b. Примените экспоненциальную функцию (`math.exp`) для оценки влияния атмосферного давления на распространение солнечного света:\n",
        "\n",
        "      ![image.png](data:image/png;base64,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)\n",
        "\n",
        "    c. Вычислите интенсивность солнечного света на поверхности, учитывая атмосферное давление и угол падения. Используйте логарифмическую функцию (`math.log`) для моделирования затухания света в атмосфере:\n",
        "\n",
        "      ![image.png](data:image/png;base64,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)"
      ],
      "metadata": {
        "id": "Gpta9ZTenjdY"
      }
    },
    {
      "cell_type": "markdown",
      "source": [
        "3. **Округление и сравнение:**\n",
        "    - Округлите конечный результат до двух знаков после запятой с использованием `round`.\n",
        "    - Сравните полученную температуру с температурой замерзания воды (0 градусов Цельсия), используя соответствующие сравнения, и определите, существует ли на планете вода в жидком состоянии.\n",
        "\n",
        "4. **Вывод:**\n",
        "    - На основе проведенных расчетов программа должна выводить эффективную температуру на поверхности планеты и делать вывод о наличии жидкой воды.\n",
        "\n",
        "**Ход работы:**\n",
        "\n",
        "- Напишите функцию `calculate_temperature(angle, intensity, pressure)`, которая принимает угол падения солнечных лучей, интенсивность солнечного света и атмосферное давление в качестве аргументов.\n",
        "- Внутри функции проведите необходимые расчеты и верните округленную эффективную температуру на поверхности планеты."
      ],
      "metadata": {
        "id": "3irprKAxxcCS"
      }
    },
    {
      "cell_type": "code",
      "source": [
        "from math import sin, cos, log, exp, pi, radians\n",
        "def calculate_temperature(angle, intensity, pressure):\n",
        "  theta = pi*angle/180\n",
        "  effective_angle = sin(theta)\n",
        "  P_eff = exp(-pressure/101325)\n",
        "  I_surf = intensity*sin(theta)*log(P_eff+1)\n",
        "\n",
        "  ans = round(I_surf, 2)\n",
        "  return ans\n",
        "\n",
        "\n",
        "angle = int(input())\n",
        "intensity = int(input())\n",
        "pressure = int(input())\n",
        "t = calculate_temperature(angle, intensity, pressure)\n",
        "if t>0:\n",
        "  print(f'Эффективная температура на поверхности: {t}. На планете может существовать вода в жидком состоянии.')\n",
        "else:\n",
        "  print(f'Эффективная температура на поверхности: {t}. Жидкой воды на планете не существует.')"
      ],
      "metadata": {
        "id": "rGLRw1Pazivl",
        "colab": {
          "base_uri": "https://localhost:8080/"
        },
        "outputId": "137e569e-9b8d-436e-8b32-cb5c4dbb8b84"
      },
      "execution_count": 26,
      "outputs": [
        {
          "output_type": "stream",
          "name": "stdout",
          "text": [
            "45\n",
            "1361\n",
            "101325\n",
            "Эффективная температура на поверхности: 301.47. На планете может существовать вода в жидком состоянии.\n"
          ]
        }
      ]
    },
    {
      "cell_type": "markdown",
      "source": [
        "\n",
        "\n",
        "```\n",
        "# Пример №1\n",
        "#Входные данные:\n",
        "Угол: 45\n",
        "Интенсивность: 1361\n",
        "Давление: 101325\n",
        "\n",
        "#Выходные данные:\n",
        "Эффективная температура на поверхности: 301.47°C. На планете может существовать вода в жидком состоянии.\n",
        "\n",
        "# Пример №2\n",
        "#Входные данные:\n",
        "Угол: 187\n",
        "Интенсивность: 6500\n",
        "Давление: 101325\n",
        "\n",
        "#Выходные данные:\n",
        "Эффективная температура на поверхности: -248.15°C. Жидкой воды на планете не существует.\n",
        "\n",
        "# Пример №3\n",
        "#Входные данные:\n",
        "Угол: 210\n",
        "Интенсивность: 24000\n",
        "Давление: 101325\n",
        "\n",
        "#Выходные данные:\n",
        "Эффективная температура на поверхности: -3759.14°C. Жидкой воды на планете не существует.\n",
        "```\n",
        "\n"
      ],
      "metadata": {
        "id": "5JGzg3RS_8TV"
      }
    },
    {
      "cell_type": "markdown",
      "source": [
        "# Дополнительно:"
      ],
      "metadata": {
        "id": "nLwGZB0cl6Px"
      }
    },
    {
      "cell_type": "markdown",
      "source": [
        "### Комплексное задание: Анализ и обработка числовой последовательности\n",
        "\n",
        "#### Цель:\n",
        "Разработка программы для анализа и обработки заданной числовой последовательности с использованием представленных математических функций.\n",
        "\n",
        "#### Задачи:\n",
        "1. **Подготовка данных:**\n",
        "   - Получить последовательность чисел от пользователя или сгенерировать случайную последовательность вещественных чисел.\n",
        "\n",
        "2. **Обработка данных:**\n",
        "   - Используя функцию `modf`, разделить каждое число на дробную и целую части.\n",
        "   - Для каждой дробной части применить округление вверх (`ceil`) и вниз (`floor`), сравнивать результаты и записывать в отдельные списки.\n",
        "   - Для каждой целой части вычислить абсолютное значение с помощью `fabs` и затем использовать `copysign`, чтобы присвоить знак следующего числа в последовательности. Если такового нет, использовать знак предыдущего.\n",
        "\n",
        "3. **Анализ данных:**\n",
        "   - Вычислить НОД (`gcd`) для пар целых частей, начиная с первого элемента.\n",
        "   - Для каждого числа использовать `fmod`, чтобы найти остаток от деления на следующее число в последовательности. Если следующего числа нет, использовать первое.\n",
        "   - Проверить, есть ли в последовательности бесконечные (`isinf`) или нечисловые значения (`isnan`), и исключить их из дальнейшего анализа.\n",
        "   - Использовать `isclose` для сравнения каждого числа с последующим, учитывая приближённое равенство. Зафиксировать пары чисел, которые удовлетворяют этому условию.\n",
        "\n",
        "4. **Дополнительная обработка:**\n",
        "   - Для каждого числа в последовательности использовать `ldexp`, чтобы умножить его дробную часть на 2 в степени, равной его порядковому номеру в последовательности (начиная с 0).\n",
        "   - Проверить каждое число на конечность (`isfinite`) и записать в новый список только конечные числа.\n",
        "\n",
        "5. **Вывод результатов:**\n",
        "   - Вывести исходную последовательность.\n",
        "   - Вывести отдельные списки, полученные в результате обработки данных.\n",
        "   - Вывести анализ данных, включая пары чисел, удовлетворяющих условию приближённого равенства, и список конечных чисел.\n",
        "   - Вывести результаты дополнительной обработки.\n",
        "\n",
        "#### Технические требования:\n",
        "- Программа должна быть написана на Python.\n",
        "- Использовать модуль `math` для математических функций.\n",
        "- Предусмотреть обработку исключений для нечисловых входных данных.\n",
        "- Предусмотреть интерактивный ввод последовательности чисел или возможность генерации случайной последовательности."
      ],
      "metadata": {
        "id": "tok0rhVPbOjb"
      }
    },
    {
      "cell_type": "code",
      "source": [
        "import math\n",
        "import random\n",
        "\n",
        "def get_sequence():\n",
        "    \"\"\"Получение последовательности чисел от пользователя или генерация случайных чисел\"\"\"\n",
        "    choice = input(\"Введите '1' для ручного ввода чисел или '2' для генерации случайной последовательности: \")\n",
        "\n",
        "    if choice == '1':\n",
        "        try:\n",
        "            sequence = list(map(float, input(\"Введите числа через пробел: \").split()))\n",
        "        except ValueError:\n",
        "            print(\"Ошибка: Введите корректные числовые значения.\")\n",
        "            return get_sequence()\n",
        "    elif choice == '2':\n",
        "        n = int(input(\"Введите количество чисел в последовательности: \"))\n",
        "        sequence = [random.uniform(-100, 100) for _ in range(n)]\n",
        "    else:\n",
        "        print(\"Ошибка: выберите 1 или 2.\")\n",
        "        return get_sequence()\n",
        "\n",
        "    return sequence\n",
        "\n",
        "def process_sequence(sequence):\n",
        "    \"\"\"Обработка числовой последовательности\"\"\"\n",
        "\n",
        "    integer_parts = []\n",
        "    fractional_parts = []\n",
        "\n",
        "    ceil_values = []\n",
        "    floor_values = []\n",
        "\n",
        "    signed_integer_parts = []\n",
        "    gcd_values = []\n",
        "    fmod_results = []\n",
        "\n",
        "    isclose_pairs = []\n",
        "    finite_numbers = []\n",
        "\n",
        "    processed_values = []\n",
        "\n",
        "    for i, num in enumerate(sequence):\n",
        "        frac, integer = math.modf(num)\n",
        "        integer = int(integer)\n",
        "\n",
        "        integer_parts.append(integer)\n",
        "        fractional_parts.append(frac)\n",
        "\n",
        "        ceil_values.append(math.ceil(frac))\n",
        "        floor_values.append(math.floor(frac))\n",
        "\n",
        "        if i < len(sequence) - 1:\n",
        "            signed_integer_parts.append(math.copysign(math.fabs(integer), sequence[i + 1]))\n",
        "        else:\n",
        "            signed_integer_parts.append(math.copysign(math.fabs(integer), sequence[i - 1]))\n",
        "\n",
        "        if i < len(integer_parts) - 1:\n",
        "            gcd_values.append(math.gcd(integer, integer_parts[i + 1]))\n",
        "\n",
        "        if i < len(sequence) - 1:\n",
        "            fmod_results.append(math.fmod(num, sequence[i + 1]))\n",
        "        else:\n",
        "            fmod_results.append(math.fmod(num, sequence[0]))\n",
        "\n",
        "        if math.isinf(num) or math.isnan(num):\n",
        "            continue\n",
        "        finite_numbers.append(num)\n",
        "\n",
        "        if i < len(sequence) - 1 and math.isclose(num, sequence[i + 1], rel_tol=1e-5):\n",
        "            isclose_pairs.append((num, sequence[i + 1]))\n",
        "\n",
        "        processed_values.append(math.ldexp(frac, i))\n",
        "\n",
        "    print(\"\\nИсходная последовательность:\", sequence)\n",
        "    print(\"\\nЦелые части:\", integer_parts)\n",
        "    print(\"Дробные части:\", fractional_parts)\n",
        "    print(\"\\nОкругление вверх (ceil):\", ceil_values)\n",
        "    print(\"Округление вниз (floor):\", floor_values)\n",
        "    print(\"\\nЦелые части с новым знаком:\", signed_integer_parts)\n",
        "    print(\"\\nНОД целых частей:\", gcd_values)\n",
        "    print(\"\\nОстатки от деления (fmod):\", fmod_results)\n",
        "    print(\"\\nЧисла, удовлетворяющие приближённому равенству:\", isclose_pairs)\n",
        "    print(\"\\nКонечные числа:\", finite_numbers)\n",
        "    print(\"\\nОбработанные значения (ldexp):\", processed_values)\n",
        "\n",
        "# Основной блок программы\n",
        "sequence = get_sequence()\n",
        "process_sequence(sequence)\n"
      ],
      "metadata": {
        "colab": {
          "base_uri": "https://localhost:8080/"
        },
        "id": "Pl1Mmo5eV984",
        "outputId": "9f7675b1-94a3-4043-d772-e2ec14deecb5"
      },
      "execution_count": 27,
      "outputs": [
        {
          "output_type": "stream",
          "name": "stdout",
          "text": [
            "Введите '1' для ручного ввода чисел или '2' для генерации случайной последовательности: 2\n",
            "Введите количество чисел в последовательности: 1000\n",
            "\n",
            "Исходная последовательность: [39.47523701047763, 75.58750183736134, -47.75211477895649, 15.87859865799021, 39.10440204875002, 92.03782394504739, 95.5350328676027, 65.4136209638803, -0.8622528963069414, -87.00989256552019, -81.00628815470529, -94.06478075219779, 16.94261352800916, 41.87295186734454, -83.82935475152406, -28.578672963070417, 54.297013063549485, 12.701392094903639, -72.88603127128302, -3.0423612885624323, 77.30734431719821, 59.647268666086916, -44.314282431132156, 92.97097478031259, -82.30208629231723, -12.842465819362744, 53.43427106538567, -16.26040448163029, -73.1787442215501, 79.74055887798175, -42.26634262362592, -58.33030082429165, 20.202651904281055, 22.540425089470716, 67.23857634961544, -99.7908917194525, -56.73860016436225, -13.645136471375153, -36.232405567531444, -35.15172789579026, -14.643913361612164, -34.13761416636578, 13.00444713529734, 19.50187245859452, -95.93489178224168, 43.24382777279206, -13.080201212742963, -39.86238828242384, -87.12084977340689, -74.98825028201637, -46.51816479135733, 44.28164185026529, 13.474235023505244, -49.880993268837194, -46.45976794783484, -23.269017742760738, -58.63471249301027, -97.9328561208935, -28.00065239782694, 82.0689416978347, -21.230615897694392, -38.86671416717924, -79.10542005549203, 51.69471092288924, 8.01127272068966, -52.118628255701836, 83.37046203033788, -0.1488149749652905, -5.200409793218427, 86.2104906772131, 91.79375728143509, 81.68610978269072, -13.211159202071855, -70.68040726774747, 98.89832308051737, -6.037598999395215, -5.651575983521042, 11.75143606486219, -88.97432973980361, -96.90041015505864, -34.89819305906168, -69.86079055060179, 23.308962087870228, -15.578530893768374, 43.303330558787934, -29.16000166005057, 23.272545673404707, 70.33563807052676, 0.05048454064930752, -31.020532132611294, 87.74759884311874, 53.23807793046362, -89.47818025438332, -51.13186141114148, 9.783465863979202, 26.023781060843817, 27.978466354797277, 92.07855923709266, -72.3707512198861, 1.2013155066357086, 90.85242948048062, 22.102398029470464, -57.16357454615342, -31.84734601087655, -25.9866650038376, 45.511124846520204, -0.5807324545142478, 62.14711536050376, 21.33322537898195, -77.64050636113674, -44.71448159530211, -94.71754308272358, -21.760100194185284, -59.06192609217966, -67.34590354862121, 53.182279202946546, -27.841389042154745, -67.75450626306518, 5.133646635880112, -22.30812385209795, 74.45208253861915, 59.46710458016787, -89.85728156130361, -87.88967318759904, 96.11737871931535, -20.918560968212162, 60.20615770607819, -5.160608035123261, 16.54729118308329, -34.642356925524396, -39.08890397470779, 95.94658571577321, -34.757572409766695, -80.12725146564345, 24.25953451640335, 60.27274392918446, 66.17781541329225, 5.837034778080152, 23.73557832140618, -43.802803273019734, 84.98302517814972, 47.63775179756152, -64.61355230948215, 44.55274238107549, -62.77450618323384, -17.70153541300526, 10.852646506207094, 79.53535884301371, 96.70329994450867, 73.32879236592638, 49.73278873067454, -6.753305838247471, 1.1926916339143787, 67.34098265595, -7.834168383438239, -51.47342888602691, 48.942581135320154, 69.18711623286399, 31.350036695529326, -91.02543498521895, -8.842008551804398, 88.54184624650193, 24.871968117054394, -5.239392061828269, -66.69406958754615, -21.909637848191494, -93.31137185111315, -41.25124033561771, -55.98536735024202, -78.94877786442053, -27.994431424610227, -76.02160880127677, 40.48396407342176, -56.95599165244809, 90.91948754674425, 61.47995767829474, -99.0382934016375, -27.060763547464788, 65.7724523948225, -55.08790758530549, 58.67567729059925, 25.64855361101634, -42.07745438357422, 63.54748854900484, 17.508833729811244, 73.10919655800893, -23.986431148586675, -45.59730825346438, -21.360884306020097, 40.80799586249134, 55.14912892440449, 61.250180263373835, -33.28307081394732, -37.4755818269348, 23.650486996572283, 86.37180884492369, -67.05294518735248, 17.460931155843312, 6.547597736527692, 34.52557912257447, -47.441783318678944, -34.32993328057887, -98.02038025400415, -40.469856436456595, 47.3101649654233, 67.19809867463474, 86.00399453537875, 68.07570514708573, 93.35496679190845, -9.620955281780198, 2.0686665862058646, 69.27057617485511, 65.1754142972868, 51.769691838320995, 26.241040464846677, 61.028435886853856, -89.02728017653594, -48.856746812638896, -29.480512206132744, 68.26047395119622, 65.70219927850763, -30.072015013789127, -32.01626548972956, 92.83402899996736, -56.14208771335794, -13.050119976293416, -75.12093738740685, -39.644206162620875, -42.16528159568325, 90.91982892768968, -75.58969645598373, -84.53556026021406, 7.564983953019876, 8.933514620061004, 34.3047362502397, -63.81818217372008, -73.32562127763617, -30.938523105335364, 39.43781995000114, -45.37611075689409, -83.28676078588816, 37.61172895315684, 2.4553378153333654, -51.80050960713323, -26.07356431614673, -86.68819488388688, -48.38508195149262, 27.494762616900132, -68.47417867883252, -79.83275559883737, 40.61956133080389, 64.42379255361007, -25.01989960513859, -53.39446212830694, 3.1836463949759235, -60.71727587814362, 4.326966892980337, 36.495383600644885, -61.93482720819272, 17.180167145565918, -62.697581625220145, -68.27615808487491, 43.37764098606556, 86.16845839445756, 88.62757742346477, -98.53392796941174, 58.15311430038443, -91.54816958335921, -36.95724067658757, 61.37121294844425, 50.112333306403286, 93.90680956874931, 44.44697009669591, 45.62441924230541, -27.317872817587997, 32.73692359837128, -79.67856717244766, -38.76378357304397, 16.495199369762318, 1.249832823097634, -46.20918143744102, -10.131340651499826, 82.09556088375285, 39.279115656171285, -16.646779362930417, -19.961823190834437, -38.73132600878692, -81.5001234135805, -6.084101275174731, -99.27937633908867, 15.22581290517924, -20.017061473484816, -31.631059607989798, -56.32479516670732, 85.16394821236796, 13.740911050442193, 7.379678361381735, 4.4332771000203905, -85.334099673597, 84.78971488933783, -99.8660051164163, 11.895021104588267, 39.04883464265981, 46.20983117035021, 76.47386390597052, -42.85178397935891, -68.97104939480671, 35.130781497370094, -61.044816119658705, 69.27887767057857, -61.095307949948285, 96.05438913520541, 64.63523972744474, -12.634866207965658, 98.86820844068225, -28.709592928443527, 2.208071096539001, -50.743585116839654, 59.45866203428676, -67.33578562577529, -29.65103613530502, -70.91327719455612, 66.7050565458255, 69.39302744007998, -43.37251518475129, -41.178572449636185, -50.19552548721889, -74.219738785739, 63.729308908802295, -32.48279829031206, -43.73811051237526, -42.13124646584747, -13.453980473950097, -36.49791321236857, -75.76537361653943, -40.966423363642555, 89.35903693616291, 22.51176199058827, -92.00550859649606, 16.952654525498062, -58.19408595528712, 15.413116631390508, -64.41333822893867, -9.457920379388682, 31.737594487194627, 41.606542139875785, -98.24307034171915, 85.09872387558028, 18.40493806505168, 85.70975564540771, -98.10459484138188, 84.86168248908402, -60.724098045013974, -24.20137150627113, 73.88385202877964, 59.467035039034954, -13.4125235346838, 13.986209018070909, -44.95716347474832, -90.45420064997738, -47.76466647501307, -17.492844035062177, 41.20996082701288, -89.68073787363238, -85.02052545061996, -17.126833852825143, 72.54301199313267, -77.11995069758524, 91.23902633360373, 46.97363502594524, 43.32085890645129, 3.3572109721479677, 5.177077176759752, -77.15390256948368, 42.701546231270186, -84.0263642133616, 58.29557149984501, -69.44854100359777, -78.48082918381836, 96.832187393042, -64.62141679058873, 73.9032394379175, 39.361365670770766, 40.60147347496249, 17.744103176304236, -39.313686380305654, 62.284624165967216, -59.50447639695404, -17.3716568516669, -95.35562660101336, 60.01240279474786, 35.980792555892265, 24.372393807587287, 79.79420651874634, -80.74561232176332, 49.57202256369578, 83.33201685864069, 73.75093123306044, 82.36071845494979, 44.962248397951214, 31.452988052211566, -61.25958176515027, 17.19892580614956, -6.052885922273177, 89.3584275465902, 3.8430530594555137, 36.0064045301217, -30.416828969984834, 88.88084085607352, 14.375600259867525, 6.096136553542934, 33.07796056766509, -92.44450416181922, -3.1581670693317676, -69.18083553181367, -24.67715769718191, -44.1617482544187, 50.93592193978981, 48.552226696701496, -73.02819026932983, 22.242169245457788, 11.428941804936187, -51.91931456993946, 46.37339023715796, 57.21976534703188, 74.07477586679104, -66.13815587307263, -29.719664722023012, 83.38613678305515, 47.91495633372719, 94.15466391481638, -29.259149309115642, -97.06403294062353, -61.25431204478262, 19.141571307951068, -37.216230041376754, -0.08568375551976715, 4.281149352623956, -30.804594734268775, 73.4092063440128, -87.00316546404349, 27.239278724040375, 62.06638971632404, 15.202733464870192, -87.7833442358809, 40.8277863093916, 52.13240253654527, -94.19263437763999, -9.761356770142626, 8.573700795964996, 51.799416078243695, -94.21620321272042, -48.51020744839949, -24.759251301907398, 5.3254534772402735, 39.96324597441415, 76.86855113050635, 72.14484039493576, 88.76197104653804, -67.04116810493673, -71.8577497206912, 19.106444417283043, -68.76155630841059, 74.35260104741005, -87.42101221911447, 52.120206339436635, 46.11134152533427, 43.29025124240317, 80.3711833863436, -86.02938194653726, 46.670934460648084, -94.10224330519145, 66.36005521166558, -74.10758933839026, -1.0304831049067928, -77.80939859942133, -50.07227540465951, 58.11328035043866, -84.85902043592056, -12.898545313631644, -21.02385501260254, -59.89564405703742, 21.466223390687404, 58.19875317162658, -73.1763263173288, 15.29524111580325, 11.69851717314161, 75.05216905032162, 62.34933004350839, -49.120784580955835, -64.80925439506683, 96.29186330939677, 71.28912752297555, 17.60475232518506, -57.56242033175274, 94.46707713024196, -64.62918012633727, 84.8943904136305, -4.146529132312395, -82.49166735396851, 71.89563961035276, -66.31654480321936, -7.583256583644541, 83.22749024512325, 95.90723472505849, -29.259940582297816, -93.88036662397614, 93.46699483460623, -32.53456761088216, -97.17893454553968, -79.0259639195011, -99.85910388609341, 82.6291409652612, -52.88141087956011, -84.38019182248102, -12.73814054351756, -32.048842420641634, -48.20395135686606, -35.02599238819539, 35.398873755057764, -36.22183710681641, -18.349514974017154, -91.71914261751888, -39.85192388794911, 43.20753263225569, 50.86345585449337, 34.47647877299721, -39.85839727593978, 84.66335871330898, -81.40104422877099, 18.86629126041342, -8.753452195176308, 14.58962397393391, -18.837681858832653, -96.3445995955344, 73.6354827722289, -78.96491889234562, -71.00658025355861, -93.50067042051226, 15.606429345216483, -49.577402489564236, -48.06520729864376, 74.90486240039499, 69.63140521702871, -64.84988590099425, 97.4886004498764, -2.071001229763908, -56.6486432444312, 59.08982600574183, 36.55025766555755, -48.156805828343565, -72.27684867080477, -89.74145032027133, -57.080661747804704, 62.700952769217, -97.33168521392423, 3.0858696202625566, 34.79836222752394, -24.969377128277074, -81.49059463074039, 24.697101600949296, 90.923268870143, 86.18385211543904, 53.589041847602545, -70.85747951460647, -25.062747795563922, -44.820768037121695, -64.77117981418586, 47.801766767495735, -89.4863828150792, 4.599932178934935, -98.25059697165645, 41.117693075132564, 38.671902717468924, 73.52885797466476, 65.43466611193855, -20.150481952720284, -49.60059389404463, -27.859366286337135, -86.49636323608638, 31.091493955138077, -1.8598784118464664, 46.297293873780376, 5.382947469936411, -18.853646655386243, -37.2897343485094, 71.38807502505708, -69.29818194391027, -20.1895009370008, 11.347758883590103, 86.06821038529137, -21.558493845033297, 45.64463650730778, -89.06194163060779, 19.113558743029017, -25.41701370563767, -10.641238649680403, -28.652397149734668, -64.5716460874296, -20.069718434674954, 63.00510139376013, -35.88183341559083, -17.31889639862227, -46.3037423328323, 18.951202345159373, 8.086251386392163, -2.6009343814241674, 79.73082907492, -71.58560479099572, 85.87399007698258, 70.53657217567192, -37.31672703253235, -8.081157687281475, -98.17340241015017, 15.975509860751075, 85.06103246557674, -50.217170895977794, 89.08515716209581, -38.25797580371335, 5.2466636839519225, 37.71003646089096, -53.45414507776349, -48.01724148933397, -68.18049624855291, 20.765157221074944, -54.96452366237479, 92.33750349030885, -11.393510450746476, -36.00992848664595, 43.32451898648634, 52.31661416193978, 28.781000023407785, 86.30259263772632, 58.58744139295203, 5.801686706081071, -87.70770724391328, 62.981360766460426, -37.92922303963162, -35.110413177705865, 25.556060780755985, 96.28208638567173, 15.429744087392464, 89.93800040917952, -32.31480769327358, 12.842971000576782, -42.6681852875358, -75.57325297927524, -94.9113634797917, 16.702949561892396, -92.56482896707566, -47.27861101138819, -17.461286588636057, 41.07091309126338, -49.87926959061597, -15.100915882302317, -73.00384029940359, 14.164939844630496, 64.02174039696257, -6.778187729788954, 6.125967002695589, 25.884082721036663, -93.88998737747242, 27.590325339238248, 54.53291994032446, -67.34151902994097, -32.184616248056756, 20.278809175935592, 51.19237214830042, 15.574730735006725, 28.203766237633914, 60.16728336413746, -12.587016511692141, 11.269446543851728, -24.223572960864587, -65.58109773931628, -19.327049250457492, -95.3797148271989, -82.21254825969629, -98.94277797629492, -38.756364951976494, -41.01810423575407, -23.867030114883164, -86.1396712745593, 30.163583994635218, 47.94821686084404, 2.333461640901561, -95.61932043393782, -1.6792432661320618, 43.13952620651651, 30.507523142403386, -23.820573515990205, 92.10786516173832, 11.90718993363187, -7.411030694016958, -83.6180933168496, -83.54246802681386, 78.77005057781196, 80.14669446422039, -82.94841336464347, 26.67543929571268, 42.333001631802944, 18.020909719009154, -29.35007678155344, 93.15958554790325, 10.048750169469116, 71.67785091837666, -79.2930816166589, 54.020574351529035, 41.392290191918505, -39.474982711420004, -65.37855555096148, 47.18780683895437, -3.0003423503372773, -19.638926374572407, -97.08639553225393, -46.88059763033596, 91.882018413027, 31.65548696892577, -81.59602658079763, -62.16320894887373, -37.24728934417625, -19.602073200611713, 21.30611147473998, -20.167837060188006, -25.654727364437477, -18.785432336562863, -36.40139507237947, 27.146083632922085, -44.35429142665015, 96.43358417285978, 82.44696013798867, -61.93356307787978, -33.930220629116306, 6.492693703985026, 11.408902955380967, -33.590199875176225, -84.24798908396613, -39.725971575689556, 50.80779182732914, 4.583140874110697, -51.21680020313419, -81.85950691325925, -47.851827301459096, -70.64160579718464, -2.939297967835202, -77.58382159529424, -49.14199838575064, -35.36245712388188, 28.129113749784864, 55.886176527743544, -47.265874655460216, 84.83573945759252, -32.6545545886559, -51.355824411028394, 49.24824814962335, -18.38405998898199, -53.65906983525497, -68.40926406826486, -42.21887790718131, -77.2933317063769, -2.5531715565883673, -37.81235286463567, 6.938709827101491, -4.618728634486786, 37.36204724533371, -50.2777210532394, 66.81807897300217, -82.84032221710895, 21.866395600203575, 40.03298718161639, 22.256066783616447, 0.5413494025355163, 10.547938072361518, -90.50415901818162, 46.645168666432795, 11.435649082766574, -11.050788016665507, -49.21717267470422, 58.288192883474835, -63.108377082944614, 14.362834020552071, -35.77267215221953, -76.70217315911705, 94.6778600475368, -98.51664014710393, -79.99643766392327, -94.20787977015831, 53.304322170485676, -8.606735758328682, -70.466157494589, 68.87741032787588, 22.879550818425272, 19.28113347349867, 72.91242380121255, 90.86072797132604, -1.8922349234625528, 76.22537107610407, 38.17532647953402, 4.835433963916728, 16.547840730699548, -48.72790490071317, 7.12856588972268, -67.44849625949439, -22.407648892225623, -10.971622500222608, -7.1979652013216935, -65.5700149525729, 55.09210374058904, 36.603169576666005, -91.80893987785004, 88.49444751885949, 16.713632906160413, -68.12637140081037, -98.5554678513492, 26.582271040650028, -28.06354580420134, -49.61827769132729, -75.97393774049108, 56.974243776835806, -6.432439384165647, 20.159886797894373, 1.5863259829375238, -18.158367078542753, 83.74372500969, 61.182098391106024, -67.21111291479232, -40.33973646995832, -12.664494649361387, 11.528043889941799, 29.462399093284006, 39.714216716828275, -44.13246123483041, 60.65419589361426, 11.826089691468951, 24.49362789380025, 71.81018400703817, 48.828206795798366, 11.02548258271095, -84.68422284147796, -29.0183278612123, -47.79675626751434, -47.20986319447533, -31.043633277396737, 25.300490152008948, -18.912470831895618, 20.541222365219596, 49.413299705321236, -53.80736085847077, 57.6582329739972, -35.13719491201968, -34.36411935654759, 71.95843789121611, -68.56597249730336, -90.29035673299856, -34.07180921952559, 3.6188016423670035, -32.344078935760805, -91.15883532679752, 13.028647249397167, 36.241944963652486, 19.12225264805039, 80.43712090437941, -84.2630580312495, -79.74950730197084, 76.26668303673452, -6.191390497256592, -42.626025763401046, 67.40409578618664, 48.12778699315433, -31.04165891434218, 43.02204100822857, 64.66290110476572, 70.3393701289053, -19.101277538498522, -24.26837993459617, -40.23498113454258, -84.83139735027491, -64.53939099057223, -45.01337912281607, 79.56904284575162, 1.6579723876510855, -60.51336944292467, -32.878392895659545, -61.75769558365572, 96.4787552638117, 77.45588018684305, -55.77219744622932, -42.352134907109054, -66.37741603075528, -67.84891904482873, 31.084564120678493, -76.61688594421273, -85.53786869241992, -32.4197799866224, 27.13449906599365, -0.7485094419545959, 32.2147099807967, -31.23495311384896, -76.5841754786858, 73.85252887720094, -56.470443726899845, 80.71682161269848, 97.54790425268399, -39.55943075039499, 51.23636197146064, 86.20090885774258, 47.21934310277888, -20.061723960219354, 17.723372160701658, -36.73713774032632, 61.6493696378098, -39.616305774447724, -50.0866317586127, -75.34192840777851, 33.12820223729622, 9.128338990450672, -68.25629750087188, -19.67364416989743, -70.01878339731115, -46.93128079202196, 55.7121761314705, 77.32393927541005, 17.59569772393408, 62.8827185689311, 6.125176819068329, -63.881475359577756, 97.18404518433971, 16.693116183876413, -3.079531391096978, 72.25749100613282, -28.533143410847288, -59.68363578732281, -85.20804894366711, -62.478141325565886, -56.68231400807615, 93.88520288529725, -15.582533570431494, -79.09297510942572, 73.2744031959678, 4.0904356074560155, 85.89204933637498, -22.288614044432606, -80.80063123542178, -92.82469543729266, 69.03084119696055, -89.78688688176129, 76.8028968750611, 0.6456752972226809, -85.80511104410509, 90.75127826608446, 33.93004592195217, 38.14216901049977, 56.5570235376627, 68.91389451240047, -42.445276391577245, 93.9226632484521, -17.34169851960729, -16.0847664779495, 14.40548529415851, -4.904428995274017, 76.4248383168052, 78.6243431027874, 83.6503973625145, -39.326573384923805, 70.41354706504791, -85.47278588056058, -81.09175220291267, -7.435818285829839, 67.13442740909545, 96.68469751756038, -64.67367721035282, 75.34121432133654, -8.624024804180564, -78.57932953125535, 42.594483506004536, -84.79230235813866, 59.50296366004156, 32.03356661187985, 92.32538563201615, 5.504751409625413, -77.71780574719784, -70.43131171645946, -91.81438318340818, 32.507325326404754, -39.962699983157755, 81.38337048398287, 35.21787014616581, -74.76377256219689, 0.3621039411322897, -93.31319322188052, -78.06971066770261, -24.433345894028164, -53.125965732181754, 74.71962198086297, 76.63839790105601, 20.951530617172324, -24.522511536026897, 60.887201455626325, 30.730397536901194, 90.62211330853049]\n",
            "\n",
            "Целые части: [39, 75, -47, 15, 39, 92, 95, 65, 0, -87, -81, -94, 16, 41, -83, -28, 54, 12, -72, -3, 77, 59, -44, 92, -82, -12, 53, -16, -73, 79, -42, -58, 20, 22, 67, -99, -56, -13, -36, -35, -14, -34, 13, 19, -95, 43, -13, -39, -87, -74, -46, 44, 13, -49, -46, -23, -58, -97, -28, 82, -21, -38, -79, 51, 8, -52, 83, 0, -5, 86, 91, 81, -13, -70, 98, -6, -5, 11, -88, -96, -34, -69, 23, -15, 43, -29, 23, 70, 0, -31, 87, 53, -89, -51, 9, 26, 27, 92, -72, 1, 90, 22, -57, -31, -25, 45, 0, 62, 21, -77, -44, -94, -21, -59, -67, 53, -27, -67, 5, -22, 74, 59, -89, -87, 96, -20, 60, -5, 16, -34, -39, 95, -34, -80, 24, 60, 66, 5, 23, -43, 84, 47, -64, 44, -62, -17, 10, 79, 96, 73, 49, -6, 1, 67, -7, -51, 48, 69, 31, -91, -8, 88, 24, -5, -66, -21, -93, -41, -55, -78, -27, -76, 40, -56, 90, 61, -99, -27, 65, -55, 58, 25, -42, 63, 17, 73, -23, -45, -21, 40, 55, 61, -33, -37, 23, 86, -67, 17, 6, 34, -47, -34, -98, -40, 47, 67, 86, 68, 93, -9, 2, 69, 65, 51, 26, 61, -89, -48, -29, 68, 65, -30, -32, 92, -56, -13, -75, -39, -42, 90, -75, -84, 7, 8, 34, -63, -73, -30, 39, -45, -83, 37, 2, -51, -26, -86, -48, 27, -68, -79, 40, 64, -25, -53, 3, -60, 4, 36, -61, 17, -62, -68, 43, 86, 88, -98, 58, -91, -36, 61, 50, 93, 44, 45, -27, 32, -79, -38, 16, 1, -46, -10, 82, 39, -16, -19, -38, -81, -6, -99, 15, -20, -31, -56, 85, 13, 7, 4, -85, 84, -99, 11, 39, 46, 76, -42, -68, 35, -61, 69, -61, 96, 64, -12, 98, -28, 2, -50, 59, -67, -29, -70, 66, 69, -43, -41, -50, -74, 63, -32, -43, -42, -13, -36, -75, -40, 89, 22, -92, 16, -58, 15, -64, -9, 31, 41, -98, 85, 18, 85, -98, 84, -60, -24, 73, 59, -13, 13, -44, -90, -47, -17, 41, -89, -85, -17, 72, -77, 91, 46, 43, 3, 5, -77, 42, -84, 58, -69, -78, 96, -64, 73, 39, 40, 17, -39, 62, -59, -17, -95, 60, 35, 24, 79, -80, 49, 83, 73, 82, 44, 31, -61, 17, -6, 89, 3, 36, -30, 88, 14, 6, 33, -92, -3, -69, -24, -44, 50, 48, -73, 22, 11, -51, 46, 57, 74, -66, -29, 83, 47, 94, -29, -97, -61, 19, -37, 0, 4, -30, 73, -87, 27, 62, 15, -87, 40, 52, -94, -9, 8, 51, -94, -48, -24, 5, 39, 76, 72, 88, -67, -71, 19, -68, 74, -87, 52, 46, 43, 80, -86, 46, -94, 66, -74, -1, -77, -50, 58, -84, -12, -21, -59, 21, 58, -73, 15, 11, 75, 62, -49, -64, 96, 71, 17, -57, 94, -64, 84, -4, -82, 71, -66, -7, 83, 95, -29, -93, 93, -32, -97, -79, -99, 82, -52, -84, -12, -32, -48, -35, 35, -36, -18, -91, -39, 43, 50, 34, -39, 84, -81, 18, -8, 14, -18, -96, 73, -78, -71, -93, 15, -49, -48, 74, 69, -64, 97, -2, -56, 59, 36, -48, -72, -89, -57, 62, -97, 3, 34, -24, -81, 24, 90, 86, 53, -70, -25, -44, -64, 47, -89, 4, -98, 41, 38, 73, 65, -20, -49, -27, -86, 31, -1, 46, 5, -18, -37, 71, -69, -20, 11, 86, -21, 45, -89, 19, -25, -10, -28, -64, -20, 63, -35, -17, -46, 18, 8, -2, 79, -71, 85, 70, -37, -8, -98, 15, 85, -50, 89, -38, 5, 37, -53, -48, -68, 20, -54, 92, -11, -36, 43, 52, 28, 86, 58, 5, -87, 62, -37, -35, 25, 96, 15, 89, -32, 12, -42, -75, -94, 16, -92, -47, -17, 41, -49, -15, -73, 14, 64, -6, 6, 25, -93, 27, 54, -67, -32, 20, 51, 15, 28, 60, -12, 11, -24, -65, -19, -95, -82, -98, -38, -41, -23, -86, 30, 47, 2, -95, -1, 43, 30, -23, 92, 11, -7, -83, -83, 78, 80, -82, 26, 42, 18, -29, 93, 10, 71, -79, 54, 41, -39, -65, 47, -3, -19, -97, -46, 91, 31, -81, -62, -37, -19, 21, -20, -25, -18, -36, 27, -44, 96, 82, -61, -33, 6, 11, -33, -84, -39, 50, 4, -51, -81, -47, -70, -2, -77, -49, -35, 28, 55, -47, 84, -32, -51, 49, -18, -53, -68, -42, -77, -2, -37, 6, -4, 37, -50, 66, -82, 21, 40, 22, 0, 10, -90, 46, 11, -11, -49, 58, -63, 14, -35, -76, 94, -98, -79, -94, 53, -8, -70, 68, 22, 19, 72, 90, -1, 76, 38, 4, 16, -48, 7, -67, -22, -10, -7, -65, 55, 36, -91, 88, 16, -68, -98, 26, -28, -49, -75, 56, -6, 20, 1, -18, 83, 61, -67, -40, -12, 11, 29, 39, -44, 60, 11, 24, 71, 48, 11, -84, -29, -47, -47, -31, 25, -18, 20, 49, -53, 57, -35, -34, 71, -68, -90, -34, 3, -32, -91, 13, 36, 19, 80, -84, -79, 76, -6, -42, 67, 48, -31, 43, 64, 70, -19, -24, -40, -84, -64, -45, 79, 1, -60, -32, -61, 96, 77, -55, -42, -66, -67, 31, -76, -85, -32, 27, 0, 32, -31, -76, 73, -56, 80, 97, -39, 51, 86, 47, -20, 17, -36, 61, -39, -50, -75, 33, 9, -68, -19, -70, -46, 55, 77, 17, 62, 6, -63, 97, 16, -3, 72, -28, -59, -85, -62, -56, 93, -15, -79, 73, 4, 85, -22, -80, -92, 69, -89, 76, 0, -85, 90, 33, 38, 56, 68, -42, 93, -17, -16, 14, -4, 76, 78, 83, -39, 70, -85, -81, -7, 67, 96, -64, 75, -8, -78, 42, -84, 59, 32, 92, 5, -77, -70, -91, 32, -39, 81, 35, -74, 0, -93, -78, -24, -53, 74, 76, 20, -24, 60, 30, 90]\n",
            "Дробные части: [0.47523701047762756, 0.5875018373613443, -0.7521147789564893, 0.8785986579902101, 0.10440204875001768, 0.037823945047392726, 0.5350328676026948, 0.4136209638803052, -0.8622528963069414, -0.009892565520189578, -0.006288154705288207, -0.064780752197791, 0.9426135280091614, 0.8729518673445398, -0.8293547515240647, -0.5786729630704173, 0.2970130635494854, 0.701392094903639, -0.8860312712830165, -0.042361288562432264, 0.30734431719821487, 0.6472686660869158, -0.31428243113215615, 0.9709747803125879, -0.3020862923172274, -0.8424658193627437, 0.4342710653856727, -0.26040448163028884, -0.1787442215501045, 0.7405588779817549, -0.266342623625917, -0.33030082429164764, 0.20265190428105484, 0.5404250894707161, 0.2385763496154425, -0.7908917194525031, -0.7386001643622535, -0.6451364713751531, -0.23240556753144404, -0.15172789579025903, -0.6439133616121637, -0.13761416636577906, 0.00444713529734031, 0.5018724585945193, -0.934891782241678, 0.24382777279205925, -0.08020121274296343, -0.8623882824238365, -0.12084977340688852, -0.9882502820163666, -0.5181647913573286, 0.281641850265288, 0.47423502350524416, -0.8809932688371944, -0.4597679478348411, -0.2690177427607381, -0.6347124930102694, -0.9328561208935042, -0.0006523978269399322, 0.06894169783470261, -0.23061589769439195, -0.8667141671792393, -0.10542005549203282, 0.694710922889243, 0.011272720689660787, -0.11862825570183588, 0.37046203033787606, -0.1488149749652905, -0.20040979321842656, 0.21049067721310166, 0.7937572814350915, 0.6861097826907212, -0.21115920207185468, -0.6804072677474693, 0.8983230805173719, -0.037598999395214605, -0.6515759835210417, 0.7514360648621903, -0.9743297398036077, -0.900410155058637, -0.8981930590616827, -0.8607905506017914, 0.3089620878702277, -0.5785308937683737, 0.303330558787934, -0.16000166005056826, 0.27254567340470714, 0.3356380705267554, 0.05048454064930752, -0.02053213261129372, 0.7475988431187375, 0.2380779304636178, -0.478180254383318, -0.13186141114147887, 0.7834658639792025, 0.023781060843816704, 0.978466354797277, 0.07855923709266222, -0.3707512198861025, 0.20131550663570863, 0.8524294804806232, 0.10239802947046428, -0.16357454615341993, -0.8473460108765494, -0.9866650038376008, 0.5111248465202038, -0.5807324545142478, 0.1471153605037614, 0.33322537898195037, -0.6405063611367439, -0.7144815953021109, -0.71754308272358, -0.7601001941852843, -0.06192609217966094, -0.34590354862120876, 0.1822792029465461, -0.841389042154745, -0.7545062630651813, 0.13364663588011183, -0.3081238520979497, 0.4520825386191518, 0.46710458016787015, -0.8572815613036084, -0.889673187599044, 0.11737871931535437, -0.9185609682121623, 0.20615770607818718, -0.1606080351232606, 0.5472911830832885, -0.6423569255243962, -0.08890397470779021, 0.9465857157732103, -0.7575724097666949, -0.1272514656434538, 0.2595345164033489, 0.27274392918445756, 0.17781541329225092, 0.8370347780801524, 0.7355783214061802, -0.8028032730197339, 0.9830251781497168, 0.6377517975615206, -0.6135523094821451, 0.5527423810754897, -0.7745061832338394, -0.70153541300526, 0.852646506207094, 0.5353588430137108, 0.7032999445086716, 0.3287923659263754, 0.7327887306745424, -0.7533058382474707, 0.1926916339143787, 0.34098265595000044, -0.8341683834382394, -0.4734288860269089, 0.9425811353201539, 0.1871162328639855, 0.3500366955293259, -0.0254349852189506, -0.8420085518043976, 0.5418462465019331, 0.8719681170543936, -0.23939206182826922, -0.6940695875461529, -0.909637848191494, -0.3113718511131509, -0.25124033561770887, -0.9853673502420222, -0.9487778644205349, -0.9944314246102266, -0.021608801276769896, 0.4839640734217596, -0.9559916524480911, 0.91948754674425, 0.47995767829473834, -0.038293401637503166, -0.06076354746478785, 0.7724523948224942, -0.08790758530548715, 0.6756772905992534, 0.6485536110163395, -0.07745438357422074, 0.5474885490048393, 0.5088337298112435, 0.10919655800893224, -0.986431148586675, -0.5973082534643765, -0.3608843060200968, 0.8079958624913388, 0.14912892440449355, 0.25018026337383503, -0.2830708139473188, -0.4755818269347998, 0.6504869965722833, 0.3718088449236916, -0.052945187352477774, 0.460931155843312, 0.5475977365276918, 0.5255791225744701, -0.4417833186789437, -0.32993328057887084, -0.02038025400415222, -0.46985643645659536, 0.3101649654232972, 0.19809867463473552, 0.003994535378751607, 0.07570514708572773, 0.3549667919084527, -0.6209552817801978, 0.06866658620586463, 0.2705761748551083, 0.1754142972868067, 0.7696918383209947, 0.24104046484667663, 0.028435886853856118, -0.02728017653593895, -0.856746812638896, -0.4805122061327438, 0.26047395119621797, 0.702199278507635, -0.07201501378912667, -0.016265489729562432, 0.8340289999673587, -0.14208771335793813, -0.05011997629341636, -0.12093738740685467, -0.6442061626208755, -0.16528159568324696, 0.9198289276896787, -0.5896964559837272, -0.535560260214055, 0.5649839530198761, 0.933514620061004, 0.3047362502396993, -0.8181821737200821, -0.32562127763617355, -0.9385231053353635, 0.43781995000114193, -0.3761107568940929, -0.2867607858881627, 0.6117289531568417, 0.45533781533336537, -0.8005096071332289, -0.07356431614672942, -0.6881948838868794, -0.3850819514926229, 0.49476261690013246, -0.47417867883251574, -0.832755598837366, 0.6195613308038901, 0.4237925536100704, -0.01989960513859046, -0.39446212830694094, 0.1836463949759235, -0.7172758781436173, 0.3269668929803373, 0.4953836006448853, -0.934827208192722, 0.1801671455659175, -0.6975816252201454, -0.27615808487490767, 0.3776409860655576, 0.16845839445755928, 0.6275774234647713, -0.5339279694117351, 0.15311430038443063, -0.5481695833592113, -0.957240676587567, 0.3712129484442528, 0.11233330640328631, 0.9068095687493098, 0.4469700966959067, 0.6244192423054074, -0.3178728175879968, 0.736923598371277, -0.6785671724476572, -0.7637835730439733, 0.49519936976231804, 0.2498328230976341, -0.2091814374410177, -0.13134065149982632, 0.09556088375285299, 0.2791156561712853, -0.6467793629304168, -0.961823190834437, -0.7313260087869224, -0.5001234135804964, -0.08410127517473143, -0.279376339088671, 0.22581290517923946, -0.017061473484815792, -0.6310596079897977, -0.3247951667073181, 0.16394821236795565, 0.7409110504421932, 0.3796783613817354, 0.43327710002039055, -0.3340996735969952, 0.7897148893378301, -0.8660051164163036, 0.8950211045882668, 0.048834642659812744, 0.20983117035021337, 0.47386390597051786, -0.8517839793589133, -0.9710493948067125, 0.13078149737009426, -0.044816119658705134, 0.2788776705785665, -0.0953079499482854, 0.054389135205411776, 0.6352397274447412, -0.6348662079656577, 0.8682084406822526, -0.7095929284435272, 0.20807109653900113, -0.7435851168396539, 0.45866203428676044, -0.33578562577528714, -0.65103613530502, -0.913277194556116, 0.7050565458254994, 0.39302744007997603, -0.3725151847512933, -0.17857244963618513, -0.1955254872188874, -0.21973878573899697, 0.7293089088022953, -0.48279829031206134, -0.7381105123752576, -0.13124646584746813, -0.45398047395009655, -0.497913212368573, -0.7653736165394349, -0.966423363642555, 0.35903693616290866, 0.5117619905882691, -0.005508596496056839, 0.9526545254980618, -0.1940859552871217, 0.41311663139050836, -0.4133382289386702, -0.4579203793886819, 0.7375944871946274, 0.6065421398757849, -0.24307034171914665, 0.0987238755802764, 0.40493806505168095, 0.7097556454077107, -0.10459484138188202, 0.8616824890840178, -0.7240980450139745, -0.20137150627112987, 0.8838520287796428, 0.467035039034954, -0.41252353468379965, 0.9862090180709089, -0.9571634747483202, -0.4542006499773805, -0.7646664750130725, -0.492844035062177, 0.20996082701287833, -0.6807378736323813, -0.020525450619956587, -0.12683385282514337, 0.5430119931326658, -0.11995069758523869, 0.23902633360373216, 0.9736350259452422, 0.3208589064512921, 0.3572109721479677, 0.17707717675975232, -0.15390256948367664, 0.7015462312701857, -0.026364213361603106, 0.2955714998450105, -0.44854100359776794, -0.4808291838183578, 0.8321873930420054, -0.6214167905887251, 0.9032394379175059, 0.3613656707707662, 0.6014734749624893, 0.7441031763042361, -0.3136863803056542, 0.28462416596721596, -0.5044763969540398, -0.37165685166689855, -0.3556266010133555, 0.01240279474785666, 0.9807925558922648, 0.3723938075872866, 0.7942065187463356, -0.7456123217633177, 0.5720225636957821, 0.3320168586406851, 0.7509312330604416, 0.36071845494979016, 0.962248397951214, 0.45298805221156613, -0.25958176515027276, 0.19892580614956046, -0.05288592227317679, 0.3584275465902067, 0.8430530594555137, 0.006404530121699281, -0.41682896998483443, 0.8808408560735188, 0.3756002598675252, 0.09613655354293371, 0.07796056766508741, -0.4445041618192249, -0.1581670693317676, -0.1808355318136705, -0.6771576971819115, -0.161748254418697, 0.9359219397898073, 0.5522266967014957, -0.02819026932982638, 0.24216924545778795, 0.42894180493618705, -0.9193145699394591, 0.37339023715796316, 0.21976534703188122, 0.0747758667910432, -0.138155873072634, -0.7196647220230119, 0.3861367830551501, 0.91495633372719, 0.15466391481638198, -0.25914930911564227, -0.06403294062353382, -0.2543120447826226, 0.1415713079510681, -0.21623004137675395, -0.08568375551976715, 0.2811493526239559, -0.8045947342687754, 0.40920634401280154, -0.0031654640434908288, 0.23927872404037487, 0.06638971632403923, 0.2027334648701924, -0.7833442358809037, 0.8277863093915983, 0.13240253654527123, -0.19263437763999036, -0.7613567701426263, 0.5737007959649958, 0.799416078243695, -0.21620321272041565, -0.5102074483994912, -0.7592513019073976, 0.3254534772402735, 0.9632459744141499, 0.8685511305063471, 0.1448403949357555, 0.7619710465380365, -0.04116810493673029, -0.8577497206912028, 0.10644441728304344, -0.7615563084105901, 0.3526010474100474, -0.4210122191144734, 0.12020633943663483, 0.111341525334268, 0.2902512424031727, 0.3711833863436027, -0.029381946537256454, 0.670934460648084, -0.10224330519145042, 0.36005521166558196, -0.1075893383902553, -0.030483104906792846, -0.8093985994213284, -0.0722754046595071, 0.11328035043865725, -0.8590204359205558, -0.8985453136316437, -0.02385501260253875, -0.8956440570374227, 0.4662233906874036, 0.1987531716265778, -0.176326317328801, 0.2952411158032504, 0.6985171731416102, 0.052169050321623445, 0.34933004350838814, -0.120784580955835, -0.8092543950668301, 0.2918633093967742, 0.2891275229755479, 0.6047523251850606, -0.5624203317527403, 0.46707713024196096, -0.6291801263372747, 0.8943904136305036, -0.14652913231239495, -0.49166735396850925, 0.8956396103527595, -0.3165448032193581, -0.5832565836445411, 0.22749024512324922, 0.9072347250584869, -0.2599405822978156, -0.8803666239761441, 0.4669948346062256, -0.5345676108821635, -0.17893454553967558, -0.02596391950109478, -0.8591038860934077, 0.6291409652612003, -0.8814108795601072, -0.3801918224810237, -0.7381405435175594, -0.04884242064163402, -0.2039513568660567, -0.02599238819539096, 0.3988737550577639, -0.2218371068164089, -0.34951497401715415, -0.7191426175188838, -0.8519238879491127, 0.20753263225569185, 0.8634558544933668, 0.4764787729972113, -0.8583972759397795, 0.6633587133089804, -0.401044228770985, 0.8662912604134192, -0.7534521951763082, 0.5896239739339109, -0.8376818588326529, -0.34459959553440456, 0.6354827722288974, -0.9649188923456222, -0.0065802535586101385, -0.5006704205122645, 0.6064293452164833, -0.5774024895642356, -0.06520729864376307, 0.9048624003949897, 0.6314052170287141, -0.8498859009942521, 0.48860044987640094, -0.07100122976390821, -0.6486432444311987, 0.08982600574182698, 0.5502576655575524, -0.1568058283435647, -0.2768486708047675, -0.7414503202713263, -0.08066174780470448, 0.7009527692169968, -0.33168521392423145, 0.08586962026255662, 0.7983622275239384, -0.969377128277074, -0.49059463074038945, 0.6971016009492956, 0.923268870143005, 0.1838521154390378, 0.5890418476025445, -0.8574795146064673, -0.06274779556392218, -0.8207680371216952, -0.7711798141858566, 0.8017667674957352, -0.486382815079196, 0.5999321789349352, -0.25059697165644934, 0.11769307513256422, 0.6719027174689245, 0.5288579746647599, 0.4346661119385544, -0.15048195272028408, -0.6005938940446285, -0.859366286337135, -0.4963632360863812, 0.0914939551380769, -0.8598784118464664, 0.29729387378037586, 0.38294746993641127, -0.8536466553862425, -0.2897343485093984, 0.388075025057077, -0.2981819439102651, -0.18950093700080117, 0.3477588835901031, 0.06821038529136558, -0.558493845033297, 0.64463650730778, -0.0619416306077909, 0.11355874302901725, -0.4170137056376717, -0.6412386496804032, -0.6523971497346679, -0.571646087429599, -0.06971843467495376, 0.005101393760128303, -0.8818334155908332, -0.3188963986222717, -0.3037423328323001, 0.9512023451593734, 0.08625138639216345, -0.6009343814241674, 0.7308290749199955, -0.5856047909957169, 0.8739900769825795, 0.5365721756719211, -0.3167270325323486, -0.08115768728147543, -0.17340241015017455, 0.9755098607510746, 0.061032465576744244, -0.2171708959777945, 0.08515716209581115, -0.25797580371335016, 0.2466636839519225, 0.7100364608909615, -0.4541450777634921, -0.017241489333969184, -0.18049624855291313, 0.7651572210749435, -0.9645236623747877, 0.33750349030884763, -0.3935104507464757, -0.009928486645947032, 0.32451898648633914, 0.316614161939782, 0.7810000234077847, 0.3025926377263204, 0.5874413929520301, 0.8016867060810711, -0.7077072439132763, 0.9813607664604262, -0.9292230396316228, -0.11041317770586545, 0.5560607807559848, 0.2820863856717324, 0.4297440873924643, 0.9380004091795229, -0.31480769327357905, 0.8429710005767816, -0.668185287535799, -0.5732529792752388, -0.911363479791703, 0.702949561892396, -0.5648289670756554, -0.2786110113881932, -0.46128658863605665, 0.07091309126337819, -0.8792695906159693, -0.10091588230231707, -0.0038402994035919846, 0.1649398446304957, 0.021740396962570685, -0.7781877297889537, 0.1259670026955888, 0.8840827210366626, -0.8899873774724227, 0.5903253392382481, 0.5329199403244615, -0.3415190299409687, -0.1846162480567557, 0.2788091759355922, 0.19237214830042149, 0.5747307350067246, 0.20376623763391422, 0.16728336413746092, -0.5870165116921413, 0.2694465438517284, -0.2235729608645869, -0.5810977393162773, -0.3270492504574918, -0.37971482719889593, -0.2125482596962911, -0.94277797629492, -0.7563649519764937, -0.018104235754073272, -0.8670301148831641, -0.13967127455930495, 0.16358399463521778, 0.9482168608440418, 0.33346164090156094, -0.6193204339378156, -0.6792432661320618, 0.13952620651650705, 0.5075231424033859, -0.8205735159902048, 0.10786516173831728, 0.9071899336318694, -0.4110306940169579, -0.6180933168495955, -0.5424680268138644, 0.7700505778119577, 0.14669446422038845, -0.9484133646434714, 0.6754392957126782, 0.3330016318029436, 0.02090971900915406, -0.35007678155344024, 0.15958554790324797, 0.048750169469116145, 0.677850918376663, -0.2930816166588954, 0.020574351529035084, 0.3922901919185051, -0.4749827114200045, -0.3785555509614795, 0.18780683895437278, -0.00034235033727725295, -0.6389263745724065, -0.08639553225393115, -0.8805976303359628, 0.8820184130269979, 0.6554869689257714, -0.596026580797627, -0.16320894887373072, -0.24728934417625226, -0.6020732006117129, 0.30611147473997846, -0.16783706018800615, -0.6547273644374769, -0.785432336562863, -0.40139507237947214, 0.14608363292208537, -0.3542914266501498, 0.43358417285978135, 0.4469601379886683, -0.9335630778797821, -0.930220629116306, 0.4926937039850259, 0.40890295538096666, -0.590199875176225, -0.24798908396613228, -0.725971575689556, 0.8077918273291402, 0.5831408741106969, -0.21680020313419135, -0.8595069132592528, -0.851827301459096, -0.6416057971846385, -0.939297967835202, -0.5838215952942392, -0.1419983857506395, -0.36245712388188167, 0.12911374978486378, 0.8861765277435438, -0.26587465546021605, 0.8357394575925241, -0.6545545886558983, -0.3558244110283937, 0.2482481496233504, -0.38405998898198845, -0.659069835254968, -0.4092640682648607, -0.21887790718130873, -0.29333170637690387, -0.5531715565883673, -0.8123528646356704, 0.9387098271014906, -0.6187286344867857, 0.3620472453337129, -0.27772105323939655, 0.8180789730021729, -0.8403222171089482, 0.8663956002035746, 0.03298718161639158, 0.25606678361644697, 0.5413494025355163, 0.5479380723615179, -0.5041590181816247, 0.6451686664327951, 0.43564908276657377, -0.05078801666550703, -0.21717267470422286, 0.28819288347483507, -0.10837708294461379, 0.3628340205520715, -0.7726721522195277, -0.7021731591170521, 0.6778600475367966, -0.5166401471039279, -0.9964376639232739, -0.20787977015831416, 0.3043221704856762, -0.6067357583286821, -0.46615749458899813, 0.8774103278758787, 0.8795508184252725, 0.28113347349867013, 0.9124238012125545, 0.8607279713260425, -0.8922349234625528, 0.22537107610406792, 0.17532647953402147, 0.8354339639167279, 0.5478407306995479, -0.7279049007131704, 0.12856588972267957, -0.44849625949439087, -0.40764889222562317, -0.9716225002226082, -0.19796520132169348, -0.5700149525729046, 0.09210374058903881, 0.603169576666005, -0.8089398778500367, 0.4944475188594879, 0.713632906160413, -0.12637140081037046, -0.5554678513492064, 0.5822710406500278, -0.0635458042013397, -0.6182776913272932, -0.9739377404910812, 0.9742437768358059, -0.4324393841656473, 0.159886797894373, 0.5863259829375238, -0.1583670785427529, 0.7437250096899959, 0.18209839110602388, -0.21111291479232364, -0.33973646995831785, -0.6644946493613872, 0.5280438899417987, 0.46239909328400586, 0.7142167168282754, -0.13246123483040861, 0.6541958936142578, 0.8260896914689511, 0.4936278938002516, 0.8101840070381741, 0.8282067957983656, 0.02548258271094994, -0.6842228414779612, -0.018327861212299013, -0.7967562675143398, -0.2098631944753322, -0.0436332773967365, 0.3004901520089476, -0.9124708318956181, 0.5412223652195962, 0.4132997053212364, -0.8073608584707728, 0.658232973997201, -0.13719491201968026, -0.3641193565475902, 0.9584378912161071, -0.5659724973033633, -0.2903567329985606, -0.0718092195255906, 0.6188016423670035, -0.3440789357608054, -0.1588353267975151, 0.02864724939716723, 0.24194496365248597, 0.1222526480503916, 0.4371209043794124, -0.2630580312494999, -0.7495073019708371, 0.2666830367345199, -0.19139049725659163, -0.6260257634010458, 0.40409578618664455, 0.12778699315433073, -0.04165891434217883, 0.02204100822856958, 0.662901104765723, 0.33937012890530127, -0.10127753849852184, -0.2683799345961688, -0.23498113454257918, -0.8313973502749121, -0.5393909905722296, -0.0133791228160689, 0.5690428457516248, 0.6579723876510855, -0.5133694429246702, -0.8783928956595446, -0.7576955836557175, 0.4787552638117063, 0.45588018684304643, -0.7721974462293204, -0.35213490710905404, -0.37741603075528474, -0.8489190448287331, 0.08456412067849328, -0.6168859442127257, -0.5378686924199201, -0.4197799866224017, 0.13449906599365136, -0.7485094419545959, 0.21470998079669812, -0.23495311384895956, -0.5841754786857933, 0.852528877200939, -0.4704437268998447, 0.7168216126984817, 0.5479042526839919, -0.5594307503949878, 0.23636197146063864, 0.20090885774257572, 0.21934310277887903, -0.06172396021935356, 0.7233721607016577, -0.7371377403263182, 0.649369637809798, -0.6163057744477243, -0.08663175861269679, -0.34192840777851075, 0.1282022372962217, 0.12833899045067199, -0.25629750087188086, -0.6736441698974289, -0.01878339731115375, -0.9312807920219583, 0.7121761314704997, 0.32393927541005496, 0.5956977239340802, 0.8827185689310966, 0.12517681906832934, -0.881475359577756, 0.18404518433970907, 0.6931161838764126, -0.07953139109697815, 0.25749100613282394, -0.5331434108472877, -0.6836357873228067, -0.2080489436671087, -0.4781413255658862, -0.6823140080761476, 0.8852028852972467, -0.5825335704314938, -0.09297510942572274, 0.2744031959678068, 0.09043560745601553, 0.8920493363749813, -0.28861404443260597, -0.8006312354217755, -0.8246954372926609, 0.030841196960551542, -0.7868868817612906, 0.8028968750610943, 0.6456752972226809, -0.8051110441050895, 0.751278266084455, 0.9300459219521713, 0.14216901049977082, 0.5570235376627011, 0.9138945124004749, -0.4452763915772451, 0.9226632484520962, -0.3416985196072915, -0.08476647794950054, 0.40548529415850965, -0.9044289952740172, 0.424838316805193, 0.6243431027874067, 0.6503973625144965, -0.3265733849238046, 0.41354706504790784, -0.47278588056057913, -0.09175220291267294, -0.43581828582983917, 0.13442740909545137, 0.6846975175603802, -0.673677210352821, 0.34121432133653684, -0.6240248041805643, -0.5793295312553539, 0.5944835060045364, -0.7923023581386559, 0.5029636600415586, 0.03356661187984855, 0.32538563201615034, 0.5047514096254133, -0.7178057471978434, -0.43131171645946154, -0.8143831834081823, 0.5073253264047537, -0.962699983157755, 0.38337048398287266, 0.2178701461658079, -0.7637725621968912, 0.3621039411322897, -0.3131932218805247, -0.06971066770260848, -0.4333458940281645, -0.12596573218175422, 0.7196219808629678, 0.6383979010560097, 0.9515306171723239, -0.5225115360268973, 0.8872014556263252, 0.7303975369011937, 0.6221133085304871]\n",
            "\n",
            "Округление вверх (ceil): [1, 1, 0, 1, 1, 1, 1, 1, 0, 0, 0, 0, 1, 1, 0, 0, 1, 1, 0, 0, 1, 1, 0, 1, 0, 0, 1, 0, 0, 1, 0, 0, 1, 1, 1, 0, 0, 0, 0, 0, 0, 0, 1, 1, 0, 1, 0, 0, 0, 0, 0, 1, 1, 0, 0, 0, 0, 0, 0, 1, 0, 0, 0, 1, 1, 0, 1, 0, 0, 1, 1, 1, 0, 0, 1, 0, 0, 1, 0, 0, 0, 0, 1, 0, 1, 0, 1, 1, 1, 0, 1, 1, 0, 0, 1, 1, 1, 1, 0, 1, 1, 1, 0, 0, 0, 1, 0, 1, 1, 0, 0, 0, 0, 0, 0, 1, 0, 0, 1, 0, 1, 1, 0, 0, 1, 0, 1, 0, 1, 0, 0, 1, 0, 0, 1, 1, 1, 1, 1, 0, 1, 1, 0, 1, 0, 0, 1, 1, 1, 1, 1, 0, 1, 1, 0, 0, 1, 1, 1, 0, 0, 1, 1, 0, 0, 0, 0, 0, 0, 0, 0, 0, 1, 0, 1, 1, 0, 0, 1, 0, 1, 1, 0, 1, 1, 1, 0, 0, 0, 1, 1, 1, 0, 0, 1, 1, 0, 1, 1, 1, 0, 0, 0, 0, 1, 1, 1, 1, 1, 0, 1, 1, 1, 1, 1, 1, 0, 0, 0, 1, 1, 0, 0, 1, 0, 0, 0, 0, 0, 1, 0, 0, 1, 1, 1, 0, 0, 0, 1, 0, 0, 1, 1, 0, 0, 0, 0, 1, 0, 0, 1, 1, 0, 0, 1, 0, 1, 1, 0, 1, 0, 0, 1, 1, 1, 0, 1, 0, 0, 1, 1, 1, 1, 1, 0, 1, 0, 0, 1, 1, 0, 0, 1, 1, 0, 0, 0, 0, 0, 0, 1, 0, 0, 0, 1, 1, 1, 1, 0, 1, 0, 1, 1, 1, 1, 0, 0, 1, 0, 1, 0, 1, 1, 0, 1, 0, 1, 0, 1, 0, 0, 0, 1, 1, 0, 0, 0, 0, 1, 0, 0, 0, 0, 0, 0, 0, 1, 1, 0, 1, 0, 1, 0, 0, 1, 1, 0, 1, 1, 1, 0, 1, 0, 0, 1, 1, 0, 1, 0, 0, 0, 0, 1, 0, 0, 0, 1, 0, 1, 1, 1, 1, 1, 0, 1, 0, 1, 0, 0, 1, 0, 1, 1, 1, 1, 0, 1, 0, 0, 0, 1, 1, 1, 1, 0, 1, 1, 1, 1, 1, 1, 0, 1, 0, 1, 1, 1, 0, 1, 1, 1, 1, 0, 0, 0, 0, 0, 1, 1, 0, 1, 1, 0, 1, 1, 1, 0, 0, 1, 1, 1, 0, 0, 0, 1, 0, 0, 1, 0, 1, 0, 1, 1, 1, 0, 1, 1, 0, 0, 1, 1, 0, 0, 0, 1, 1, 1, 1, 1, 0, 0, 1, 0, 1, 0, 1, 1, 1, 1, 0, 1, 0, 1, 0, 0, 0, 0, 1, 0, 0, 0, 0, 1, 1, 0, 1, 1, 1, 1, 0, 0, 1, 1, 1, 0, 1, 0, 1, 0, 0, 1, 0, 0, 1, 1, 0, 0, 1, 0, 0, 0, 0, 1, 0, 0, 0, 0, 0, 0, 1, 0, 0, 0, 0, 1, 1, 1, 0, 1, 0, 1, 0, 1, 0, 0, 1, 0, 0, 0, 1, 0, 0, 1, 1, 0, 1, 0, 0, 1, 1, 0, 0, 0, 0, 1, 0, 1, 1, 0, 0, 1, 1, 1, 1, 0, 0, 0, 0, 1, 0, 1, 0, 1, 1, 1, 1, 0, 0, 0, 0, 1, 0, 1, 1, 0, 0, 1, 0, 0, 1, 1, 0, 1, 0, 1, 0, 0, 0, 0, 0, 1, 0, 0, 0, 1, 1, 0, 1, 0, 1, 1, 0, 0, 0, 1, 1, 0, 1, 0, 1, 1, 0, 0, 0, 1, 0, 1, 0, 0, 1, 1, 1, 1, 1, 1, 0, 1, 0, 0, 1, 1, 1, 1, 0, 1, 0, 0, 0, 1, 0, 0, 0, 1, 0, 0, 0, 1, 1, 0, 1, 1, 0, 1, 1, 0, 0, 1, 1, 1, 1, 1, 0, 1, 0, 0, 0, 0, 0, 0, 0, 0, 0, 0, 1, 1, 1, 0, 0, 1, 1, 0, 1, 1, 0, 0, 0, 1, 1, 0, 1, 1, 1, 0, 1, 1, 1, 0, 1, 1, 0, 0, 1, 0, 0, 0, 0, 1, 1, 0, 0, 0, 0, 1, 0, 0, 0, 0, 1, 0, 1, 1, 0, 0, 1, 1, 0, 0, 0, 1, 1, 0, 0, 0, 0, 0, 0, 0, 0, 1, 1, 0, 1, 0, 0, 1, 0, 0, 0, 0, 0, 0, 0, 1, 0, 1, 0, 1, 0, 1, 1, 1, 1, 1, 0, 1, 1, 0, 0, 1, 0, 1, 0, 0, 1, 0, 0, 0, 1, 0, 0, 1, 1, 1, 1, 1, 0, 1, 1, 1, 1, 0, 1, 0, 0, 0, 0, 0, 1, 1, 0, 1, 1, 0, 0, 1, 0, 0, 0, 1, 0, 1, 1, 0, 1, 1, 0, 0, 0, 1, 1, 1, 0, 1, 1, 1, 1, 1, 1, 0, 0, 0, 0, 0, 1, 0, 1, 1, 0, 1, 0, 0, 1, 0, 0, 0, 1, 0, 0, 1, 1, 1, 1, 0, 0, 1, 0, 0, 1, 1, 0, 1, 1, 1, 0, 0, 0, 0, 0, 0, 1, 1, 0, 0, 0, 1, 1, 0, 0, 0, 0, 1, 0, 0, 0, 1, 0, 1, 0, 0, 1, 0, 1, 1, 0, 1, 1, 1, 0, 1, 0, 1, 0, 0, 0, 1, 1, 0, 0, 0, 0, 1, 1, 1, 1, 1, 0, 1, 1, 0, 1, 0, 0, 0, 0, 0, 1, 0, 0, 1, 1, 1, 0, 0, 0, 1, 0, 1, 1, 0, 1, 1, 1, 1, 1, 0, 1, 0, 0, 1, 0, 1, 1, 1, 0, 1, 0, 0, 0, 1, 1, 0, 1, 0, 0, 1, 0, 1, 1, 1, 1, 0, 0, 0, 1, 0, 1, 1, 0, 1, 0, 0, 0, 0, 1, 1, 1, 0, 1, 1, 1]\n",
            "Округление вниз (floor): [0, 0, -1, 0, 0, 0, 0, 0, -1, -1, -1, -1, 0, 0, -1, -1, 0, 0, -1, -1, 0, 0, -1, 0, -1, -1, 0, -1, -1, 0, -1, -1, 0, 0, 0, -1, -1, -1, -1, -1, -1, -1, 0, 0, -1, 0, -1, -1, -1, -1, -1, 0, 0, -1, -1, -1, -1, -1, -1, 0, -1, -1, -1, 0, 0, -1, 0, -1, -1, 0, 0, 0, -1, -1, 0, -1, -1, 0, -1, -1, -1, -1, 0, -1, 0, -1, 0, 0, 0, -1, 0, 0, -1, -1, 0, 0, 0, 0, -1, 0, 0, 0, -1, -1, -1, 0, -1, 0, 0, -1, -1, -1, -1, -1, -1, 0, -1, -1, 0, -1, 0, 0, -1, -1, 0, -1, 0, -1, 0, -1, -1, 0, -1, -1, 0, 0, 0, 0, 0, -1, 0, 0, -1, 0, -1, -1, 0, 0, 0, 0, 0, -1, 0, 0, -1, -1, 0, 0, 0, -1, -1, 0, 0, -1, -1, -1, -1, -1, -1, -1, -1, -1, 0, -1, 0, 0, -1, -1, 0, -1, 0, 0, -1, 0, 0, 0, -1, -1, -1, 0, 0, 0, -1, -1, 0, 0, -1, 0, 0, 0, -1, -1, -1, -1, 0, 0, 0, 0, 0, -1, 0, 0, 0, 0, 0, 0, -1, -1, -1, 0, 0, -1, -1, 0, -1, -1, -1, -1, -1, 0, -1, -1, 0, 0, 0, -1, -1, -1, 0, -1, -1, 0, 0, -1, -1, -1, -1, 0, -1, -1, 0, 0, -1, -1, 0, -1, 0, 0, -1, 0, -1, -1, 0, 0, 0, -1, 0, -1, -1, 0, 0, 0, 0, 0, -1, 0, -1, -1, 0, 0, -1, -1, 0, 0, -1, -1, -1, -1, -1, -1, 0, -1, -1, -1, 0, 0, 0, 0, -1, 0, -1, 0, 0, 0, 0, -1, -1, 0, -1, 0, -1, 0, 0, -1, 0, -1, 0, -1, 0, -1, -1, -1, 0, 0, -1, -1, -1, -1, 0, -1, -1, -1, -1, -1, -1, -1, 0, 0, -1, 0, -1, 0, -1, -1, 0, 0, -1, 0, 0, 0, -1, 0, -1, -1, 0, 0, -1, 0, -1, -1, -1, -1, 0, -1, -1, -1, 0, -1, 0, 0, 0, 0, 0, -1, 0, -1, 0, -1, -1, 0, -1, 0, 0, 0, 0, -1, 0, -1, -1, -1, 0, 0, 0, 0, -1, 0, 0, 0, 0, 0, 0, -1, 0, -1, 0, 0, 0, -1, 0, 0, 0, 0, -1, -1, -1, -1, -1, 0, 0, -1, 0, 0, -1, 0, 0, 0, -1, -1, 0, 0, 0, -1, -1, -1, 0, -1, -1, 0, -1, 0, -1, 0, 0, 0, -1, 0, 0, -1, -1, 0, 0, -1, -1, -1, 0, 0, 0, 0, 0, -1, -1, 0, -1, 0, -1, 0, 0, 0, 0, -1, 0, -1, 0, -1, -1, -1, -1, 0, -1, -1, -1, -1, 0, 0, -1, 0, 0, 0, 0, -1, -1, 0, 0, 0, -1, 0, -1, 0, -1, -1, 0, -1, -1, 0, 0, -1, -1, 0, -1, -1, -1, -1, 0, -1, -1, -1, -1, -1, -1, 0, -1, -1, -1, -1, 0, 0, 0, -1, 0, -1, 0, -1, 0, -1, -1, 0, -1, -1, -1, 0, -1, -1, 0, 0, -1, 0, -1, -1, 0, 0, -1, -1, -1, -1, 0, -1, 0, 0, -1, -1, 0, 0, 0, 0, -1, -1, -1, -1, 0, -1, 0, -1, 0, 0, 0, 0, -1, -1, -1, -1, 0, -1, 0, 0, -1, -1, 0, -1, -1, 0, 0, -1, 0, -1, 0, -1, -1, -1, -1, -1, 0, -1, -1, -1, 0, 0, -1, 0, -1, 0, 0, -1, -1, -1, 0, 0, -1, 0, -1, 0, 0, -1, -1, -1, 0, -1, 0, -1, -1, 0, 0, 0, 0, 0, 0, -1, 0, -1, -1, 0, 0, 0, 0, -1, 0, -1, -1, -1, 0, -1, -1, -1, 0, -1, -1, -1, 0, 0, -1, 0, 0, -1, 0, 0, -1, -1, 0, 0, 0, 0, 0, -1, 0, -1, -1, -1, -1, -1, -1, -1, -1, -1, -1, 0, 0, 0, -1, -1, 0, 0, -1, 0, 0, -1, -1, -1, 0, 0, -1, 0, 0, 0, -1, 0, 0, 0, -1, 0, 0, -1, -1, 0, -1, -1, -1, -1, 0, 0, -1, -1, -1, -1, 0, -1, -1, -1, -1, 0, -1, 0, 0, -1, -1, 0, 0, -1, -1, -1, 0, 0, -1, -1, -1, -1, -1, -1, -1, -1, 0, 0, -1, 0, -1, -1, 0, -1, -1, -1, -1, -1, -1, -1, 0, -1, 0, -1, 0, -1, 0, 0, 0, 0, 0, -1, 0, 0, -1, -1, 0, -1, 0, -1, -1, 0, -1, -1, -1, 0, -1, -1, 0, 0, 0, 0, 0, -1, 0, 0, 0, 0, -1, 0, -1, -1, -1, -1, -1, 0, 0, -1, 0, 0, -1, -1, 0, -1, -1, -1, 0, -1, 0, 0, -1, 0, 0, -1, -1, -1, 0, 0, 0, -1, 0, 0, 0, 0, 0, 0, -1, -1, -1, -1, -1, 0, -1, 0, 0, -1, 0, -1, -1, 0, -1, -1, -1, 0, -1, -1, 0, 0, 0, 0, -1, -1, 0, -1, -1, 0, 0, -1, 0, 0, 0, -1, -1, -1, -1, -1, -1, 0, 0, -1, -1, -1, 0, 0, -1, -1, -1, -1, 0, -1, -1, -1, 0, -1, 0, -1, -1, 0, -1, 0, 0, -1, 0, 0, 0, -1, 0, -1, 0, -1, -1, -1, 0, 0, -1, -1, -1, -1, 0, 0, 0, 0, 0, -1, 0, 0, -1, 0, -1, -1, -1, -1, -1, 0, -1, -1, 0, 0, 0, -1, -1, -1, 0, -1, 0, 0, -1, 0, 0, 0, 0, 0, -1, 0, -1, -1, 0, -1, 0, 0, 0, -1, 0, -1, -1, -1, 0, 0, -1, 0, -1, -1, 0, -1, 0, 0, 0, 0, -1, -1, -1, 0, -1, 0, 0, -1, 0, -1, -1, -1, -1, 0, 0, 0, -1, 0, 0, 0]\n",
            "\n",
            "Целые части с новым знаком: [39.0, -75.0, 47.0, 15.0, 39.0, 92.0, 95.0, -65.0, -0.0, -87.0, -81.0, 94.0, 16.0, -41.0, -83.0, 28.0, 54.0, -12.0, -72.0, 3.0, 77.0, -59.0, 44.0, -92.0, -82.0, 12.0, -53.0, -16.0, 73.0, -79.0, -42.0, 58.0, 20.0, 22.0, -67.0, -99.0, -56.0, -13.0, -36.0, -35.0, -14.0, 34.0, 13.0, -19.0, 95.0, -43.0, -13.0, -39.0, -87.0, -74.0, 46.0, 44.0, -13.0, -49.0, -46.0, -23.0, -58.0, -97.0, 28.0, -82.0, -21.0, -38.0, 79.0, 51.0, -8.0, 52.0, -83.0, -0.0, 5.0, 86.0, 91.0, -81.0, -13.0, 70.0, -98.0, -6.0, 5.0, -11.0, -88.0, -96.0, -34.0, 69.0, -23.0, 15.0, -43.0, 29.0, 23.0, 70.0, -0.0, 31.0, 87.0, -53.0, -89.0, 51.0, 9.0, 26.0, 27.0, -92.0, 72.0, 1.0, 90.0, -22.0, -57.0, -31.0, 25.0, -45.0, 0.0, 62.0, -21.0, -77.0, -44.0, -94.0, -21.0, -59.0, 67.0, -53.0, -27.0, 67.0, -5.0, 22.0, 74.0, -59.0, -89.0, 87.0, -96.0, 20.0, -60.0, 5.0, -16.0, -34.0, 39.0, -95.0, -34.0, 80.0, 24.0, 60.0, 66.0, 5.0, -23.0, 43.0, 84.0, -47.0, 64.0, -44.0, -62.0, 17.0, 10.0, 79.0, 96.0, 73.0, -49.0, 6.0, 1.0, -67.0, -7.0, 51.0, 48.0, 69.0, -31.0, -91.0, 8.0, 88.0, -24.0, -5.0, -66.0, -21.0, -93.0, -41.0, -55.0, -78.0, -27.0, 76.0, -40.0, 56.0, 90.0, -61.0, -99.0, 27.0, -65.0, 55.0, 58.0, -25.0, 42.0, 63.0, 17.0, -73.0, -23.0, -45.0, 21.0, 40.0, 55.0, -61.0, -33.0, 37.0, 23.0, -86.0, 67.0, 17.0, 6.0, -34.0, -47.0, -34.0, -98.0, 40.0, 47.0, 67.0, 86.0, 68.0, -93.0, 9.0, 2.0, 69.0, 65.0, 51.0, 26.0, -61.0, -89.0, -48.0, 29.0, 68.0, -65.0, -30.0, 32.0, -92.0, -56.0, -13.0, -75.0, -39.0, 42.0, -90.0, -75.0, 84.0, 7.0, 8.0, -34.0, -63.0, -73.0, 30.0, -39.0, -45.0, 83.0, 37.0, -2.0, -51.0, -26.0, -86.0, 48.0, -27.0, -68.0, 79.0, 40.0, -64.0, -25.0, 53.0, -3.0, 60.0, 4.0, -36.0, 61.0, -17.0, -62.0, 68.0, 43.0, 86.0, -88.0, 98.0, -58.0, -91.0, 36.0, 61.0, 50.0, 93.0, 44.0, -45.0, 27.0, -32.0, -79.0, 38.0, 16.0, -1.0, -46.0, 10.0, 82.0, -39.0, -16.0, -19.0, -38.0, -81.0, -6.0, 99.0, -15.0, -20.0, -31.0, 56.0, 85.0, 13.0, 7.0, -4.0, 85.0, -84.0, 99.0, 11.0, 39.0, 46.0, -76.0, -42.0, 68.0, -35.0, 61.0, -69.0, 61.0, 96.0, -64.0, 12.0, -98.0, 28.0, -2.0, 50.0, -59.0, -67.0, -29.0, 70.0, 66.0, -69.0, -43.0, -41.0, -50.0, 74.0, -63.0, -32.0, -43.0, -42.0, -13.0, -36.0, -75.0, 40.0, 89.0, -22.0, 92.0, -16.0, 58.0, -15.0, -64.0, 9.0, 31.0, -41.0, 98.0, 85.0, 18.0, -85.0, 98.0, -84.0, -60.0, 24.0, 73.0, -59.0, 13.0, -13.0, -44.0, -90.0, -47.0, 17.0, -41.0, -89.0, -85.0, 17.0, -72.0, 77.0, 91.0, 46.0, 43.0, 3.0, -5.0, 77.0, -42.0, 84.0, -58.0, -69.0, 78.0, -96.0, 64.0, 73.0, 39.0, 40.0, -17.0, 39.0, -62.0, -59.0, -17.0, 95.0, 60.0, 35.0, 24.0, -79.0, 80.0, 49.0, 83.0, 73.0, 82.0, 44.0, -31.0, 61.0, -17.0, 6.0, 89.0, 3.0, -36.0, 30.0, 88.0, 14.0, 6.0, -33.0, -92.0, -3.0, -69.0, -24.0, 44.0, 50.0, -48.0, 73.0, 22.0, -11.0, 51.0, 46.0, 57.0, -74.0, -66.0, 29.0, 83.0, 47.0, -94.0, -29.0, -97.0, 61.0, -19.0, -37.0, 0.0, -4.0, 30.0, -73.0, 87.0, 27.0, 62.0, -15.0, 87.0, 40.0, -52.0, -94.0, 9.0, 8.0, -51.0, -94.0, -48.0, 24.0, 5.0, 39.0, 76.0, 72.0, -88.0, -67.0, 71.0, -19.0, 68.0, -74.0, 87.0, 52.0, 46.0, 43.0, -80.0, 86.0, -46.0, 94.0, -66.0, -74.0, -1.0, -77.0, 50.0, -58.0, -84.0, -12.0, -21.0, 59.0, 21.0, -58.0, 73.0, 15.0, 11.0, 75.0, -62.0, -49.0, 64.0, 96.0, 71.0, -17.0, 57.0, -94.0, 64.0, -84.0, -4.0, 82.0, -71.0, -66.0, 7.0, 83.0, -95.0, -29.0, 93.0, -93.0, -32.0, -97.0, -79.0, 99.0, -82.0, -52.0, -84.0, -12.0, -32.0, -48.0, 35.0, -35.0, -36.0, -18.0, -91.0, 39.0, 43.0, 50.0, -34.0, 39.0, -84.0, 81.0, -18.0, 8.0, -14.0, -18.0, 96.0, -73.0, -78.0, -71.0, 93.0, -15.0, -49.0, 48.0, 74.0, -69.0, 64.0, -97.0, -2.0, 56.0, 59.0, -36.0, -48.0, -72.0, -89.0, 57.0, -62.0, 97.0, 3.0, -34.0, -24.0, 81.0, 24.0, 90.0, 86.0, -53.0, -70.0, -25.0, -44.0, 64.0, -47.0, 89.0, -4.0, 98.0, 41.0, 38.0, 73.0, -65.0, -20.0, -49.0, -27.0, 86.0, -31.0, 1.0, 46.0, -5.0, -18.0, 37.0, -71.0, -69.0, 20.0, 11.0, -86.0, 21.0, -45.0, 89.0, -19.0, -25.0, -10.0, -28.0, -64.0, 20.0, -63.0, -35.0, -17.0, 46.0, 18.0, -8.0, 2.0, -79.0, 71.0, 85.0, -70.0, -37.0, -8.0, 98.0, 15.0, -85.0, 50.0, -89.0, 38.0, 5.0, -37.0, -53.0, -48.0, 68.0, -20.0, 54.0, -92.0, -11.0, 36.0, 43.0, 52.0, 28.0, 86.0, 58.0, -5.0, 87.0, -62.0, -37.0, 35.0, 25.0, 96.0, 15.0, -89.0, 32.0, -12.0, -42.0, -75.0, 94.0, -16.0, -92.0, -47.0, 17.0, -41.0, -49.0, -15.0, 73.0, 14.0, -64.0, 6.0, 6.0, -25.0, 93.0, 27.0, -54.0, -67.0, 32.0, 20.0, 51.0, 15.0, 28.0, -60.0, 12.0, -11.0, -24.0, -65.0, -19.0, -95.0, -82.0, -98.0, -38.0, -41.0, -23.0, 86.0, 30.0, 47.0, -2.0, -95.0, 1.0, 43.0, -30.0, 23.0, 92.0, -11.0, -7.0, -83.0, 83.0, 78.0, -80.0, 82.0, 26.0, 42.0, -18.0, 29.0, 93.0, 10.0, -71.0, 79.0, 54.0, -41.0, -39.0, 65.0, -47.0, -3.0, -19.0, -97.0, 46.0, 91.0, -31.0, -81.0, -62.0, -37.0, 19.0, -21.0, -20.0, -25.0, -18.0, 36.0, -27.0, 44.0, 96.0, -82.0, -61.0, 33.0, 6.0, -11.0, -33.0, -84.0, 39.0, 50.0, -4.0, -51.0, -81.0, -47.0, -70.0, -2.0, -77.0, -49.0, 35.0, 28.0, -55.0, 47.0, -84.0, -32.0, 51.0, -49.0, -18.0, -53.0, -68.0, -42.0, -77.0, -2.0, 37.0, -6.0, 4.0, -37.0, 50.0, -66.0, 82.0, 21.0, 40.0, 22.0, 0.0, -10.0, 90.0, 46.0, -11.0, -11.0, 49.0, -58.0, 63.0, -14.0, -35.0, 76.0, -94.0, -98.0, -79.0, 94.0, -53.0, -8.0, 70.0, 68.0, 22.0, 19.0, 72.0, -90.0, 1.0, 76.0, 38.0, 4.0, -16.0, 48.0, -7.0, -67.0, -22.0, -10.0, -7.0, 65.0, 55.0, -36.0, 91.0, 88.0, -16.0, -68.0, 98.0, -26.0, -28.0, -49.0, 75.0, -56.0, 6.0, 20.0, -1.0, 18.0, 83.0, -61.0, -67.0, -40.0, 12.0, 11.0, 29.0, -39.0, 44.0, 60.0, 11.0, 24.0, 71.0, 48.0, -11.0, -84.0, -29.0, -47.0, -47.0, 31.0, -25.0, 18.0, 20.0, -49.0, 53.0, -57.0, -35.0, 34.0, -71.0, -68.0, -90.0, 34.0, -3.0, -32.0, 91.0, 13.0, 36.0, 19.0, -80.0, -84.0, 79.0, -76.0, -6.0, 42.0, 67.0, -48.0, 31.0, 43.0, 64.0, -70.0, -19.0, -24.0, -40.0, -84.0, -64.0, 45.0, 79.0, -1.0, -60.0, -32.0, 61.0, 96.0, -77.0, -55.0, -42.0, -66.0, 67.0, -31.0, -76.0, -85.0, 32.0, -27.0, 0.0, -32.0, -31.0, 76.0, -73.0, 56.0, 80.0, -97.0, 39.0, 51.0, 86.0, -47.0, 20.0, -17.0, 36.0, -61.0, -39.0, -50.0, 75.0, 33.0, -9.0, -68.0, -19.0, -70.0, 46.0, 55.0, 77.0, 17.0, 62.0, -6.0, 63.0, 97.0, -16.0, 3.0, -72.0, -28.0, -59.0, -85.0, -62.0, 56.0, -93.0, -15.0, 79.0, 73.0, 4.0, -85.0, -22.0, -80.0, 92.0, -69.0, 89.0, 76.0, -0.0, 85.0, 90.0, 33.0, 38.0, 56.0, -68.0, 42.0, -93.0, -17.0, 16.0, -14.0, 4.0, 76.0, 78.0, -83.0, 39.0, -70.0, -85.0, -81.0, 7.0, 67.0, -96.0, 64.0, -75.0, -8.0, 78.0, -42.0, 84.0, 59.0, 32.0, 92.0, -5.0, -77.0, -70.0, 91.0, -32.0, 39.0, 81.0, -35.0, 74.0, -0.0, -93.0, -78.0, -24.0, 53.0, 74.0, 76.0, -20.0, 24.0, 60.0, 30.0, 90.0]\n",
            "\n",
            "НОД целых частей: []\n",
            "\n",
            "Остатки от деления (fmod): [39.47523701047763, 27.835387058404855, -0.116318804985859, 15.87859865799021, 39.10440204875002, 92.03782394504739, 30.12141190372239, 0.7446537408597038, -0.8622528963069414, -6.003604410814901, -81.00628815470529, -9.351713112151984, 16.94261352800916, 41.87295186734454, -26.67200882538323, -28.578672963070417, 3.4914446839349296, 12.701392094903639, -2.9117216343470744, -3.0423612885624323, 17.6600756511113, 15.33298623495476, -44.314282431132156, 10.66888848799536, -5.247291376140765, -12.842465819362744, 4.653057620494806, -16.26040448163029, -73.1787442215501, 37.47421625435584, -42.26634262362592, -17.924997015729538, 20.202651904281055, 22.540425089470716, 67.23857634961544, -43.05229155509025, -2.1580542788616413, -13.645136471375153, -1.080677671741185, -5.863901172565932, -14.643913361612164, -8.128719895771098, 13.00444713529734, 19.50187245859452, -9.44723623665756, 4.003224134563169, -13.080201212742963, -39.86238828242384, -12.132599491390522, -28.470085490659038, -2.2365229410920406, 3.8589367797495555, 13.474235023505244, -3.4212253210023533, -23.190750205074103, -23.269017742760738, -58.63471249301027, -13.930898927412684, -28.00065239782694, 18.377094004751527, -21.230615897694392, -38.86671416717924, -27.41070913260279, 3.6270745987512782, 8.01127272068966, -52.118628255701836, 0.034076049775194406, -0.1488149749652905, -5.200409793218427, 86.2104906772131, 10.10764749874437, 2.419154570259593, -13.211159202071855, -70.68040726774747, 2.296739090193938, -0.38602301587417287, -5.651575983521042, 11.75143606486219, -88.97432973980361, -27.10402403693527, -34.89819305906168, -23.242866374861336, 7.730431194101854, -15.578530893768374, 14.143328898737366, -5.887455986645861, 23.272545673404707, 0.010672946041381692, 0.05048454064930752, -31.020532132611294, 34.50952091265512, 53.23807793046362, -38.34631884324184, -2.2145320912454665, 9.783465863979202, 26.023781060843817, 27.978466354797277, 19.70780801720656, -0.2918208217435847, 1.2013155066357086, 2.442837362598766, 22.102398029470464, -25.31622853527687, -5.860681007038949, -25.9866650038376, 0.21399339440887388, -0.5807324545142478, 19.48066460253986, 21.33322537898195, -32.92602476583463, -44.71448159530211, -7.677142305982443, -21.760100194185284, -59.06192609217966, -14.163624345674663, 25.3408901607918, -27.841389042154745, -1.0170999966237275, 5.133646635880112, -22.30812385209795, 14.984977958451282, 59.46710458016787, -1.9676083737045644, -87.88967318759904, 12.443134846466705, -20.918560968212162, 3.4394693197223205, -5.160608035123261, 16.54729118308329, -34.642356925524396, -39.08890397470779, 26.43144089623982, -34.757572409766695, -7.348647916433407, 24.25953451640335, 60.27274392918446, 1.970432854410575, 5.837034778080152, 23.73557832140618, -43.802803273019734, 37.345273380588196, 47.63775179756152, -20.060809928406655, 44.55274238107549, -9.66989994421806, -6.848888906798166, 10.852646506207094, 79.53535884301371, 23.374507578582296, 23.596003635251833, 2.459647862942248, -0.7898476686755771, 1.1926916339143787, 4.667635588444085, -7.834168383438239, -2.530847750706755, 48.942581135320154, 6.487042841805334, 31.350036695529326, -2.6053494671749746, -8.842008551804398, 13.925941895338752, 3.9143998697413167, -5.239392061828269, -0.965156042971671, -21.909637848191494, -10.808891179877733, -41.25124033561771, -55.98536735024202, -22.95991501520008, -27.994431424610227, -35.53764472785501, 40.48396407342176, -56.95599165244809, 29.43952986844951, 61.47995767829474, -17.85600275924314, -27.060763547464788, 10.684544809517007, -55.08790758530549, 7.3785700685665745, 25.64855361101634, -42.07745438357422, 11.020987359571109, 17.508833729811244, 1.1499031122489072, -23.986431148586675, -2.875539641424183, -21.360884306020097, 40.80799586249134, 55.14912892440449, 27.967109449426516, -33.28307081394732, -13.825094830362517, 23.650486996572283, 19.318863657571214, -14.670151719822542, 4.365735682787928, 6.547597736527692, 34.52557912257447, -13.111850038100073, -34.32993328057887, -17.08066738109096, -40.469856436456595, 47.3101649654233, 67.19809867463474, 17.928289388293024, 68.07570514708573, 6.766369255886673, -1.3462889369567392, 2.0686665862058646, 4.095161877568302, 13.405722458965812, 25.528651373474318, 26.241040464846677, 61.028435886853856, -40.17053336389704, -19.376234606506152, -29.480512206132744, 2.558274672688583, 5.558169250929382, -30.072015013789127, -32.01626548972956, 36.69194128660942, -3.9416078081842727, -13.050119976293416, -35.47673122478598, -39.644206162620875, -42.16528159568325, 15.330132471705952, -75.58969645598373, -1.3207367769954175, 7.564983953019876, 8.933514620061004, 34.3047362502397, -63.81818217372008, -11.448575066965446, -30.938523105335364, 39.43781995000114, -45.37611075689409, -8.06330287957448, 0.7816617231563612, 2.4553378153333654, -25.7269452909865, -26.07356431614673, -38.30311293239426, -20.89031933459249, 27.494762616900132, -68.47417867883252, -39.213194268033476, 40.61956133080389, 14.38399334333289, -25.01989960513859, -2.456119808692165, 3.1836463949759235, -0.13973937641889478, 4.326966892980337, 36.495383600644885, -10.39432577149497, 17.180167145565918, -62.697581625220145, -24.89851709880935, 43.37764098606556, 86.16845839445756, 88.62757742346477, -40.380813669027305, 58.15311430038443, -17.633688230184077, -36.95724067658757, 11.258879642040966, 50.112333306403286, 5.012869375357496, 44.44697009669591, 18.30654642471741, -27.317872817587997, 32.73692359837128, -2.1510000263597107, -5.773384833519337, 0.24737266949307468, 1.249832823097634, -5.683818831441712, -10.131340651499826, 3.5373295714102824, 5.985556930310452, -16.646779362930417, -19.961823190834437, -38.73132600878692, -2.406806836308988, -6.084101275174731, -7.924498908013234, 15.22581290517924, -20.017061473484816, -31.631059607989798, -56.32479516670732, 2.7184819097147965, 6.361232689060458, 2.946401261361345, 4.4332771000203905, -0.5443847842591651, 84.78971488933783, -4.705836279710169, 11.895021104588267, 39.04883464265981, 46.20983117035021, 33.622079926611605, -42.85178397935891, -33.84026789743662, 35.130781497370094, -61.044816119658705, 8.183569720630281, -61.095307949948285, 31.41914940776067, 1.4609086876164525, -12.634866207965658, 12.739429655351671, -0.004668673436512449, 2.208071096539001, -50.743585116839654, 59.45866203428676, -8.033713355165247, -29.65103613530502, -4.208220648730617, 66.7050565458255, 26.020512255328683, -2.193942735115108, -41.178572449636185, -50.19552548721889, -10.490429876936702, 31.246510618490234, -32.48279829031206, -1.6068640465277895, -1.7693050439971785, -13.453980473950097, -36.49791321236857, -34.79895025289688, -40.966423363642555, 21.8237509643981, 22.51176199058827, -7.242235969005748, 16.952654525498062, -11.954736061115597, 15.413116631390508, -7.665815952606579, -9.457920379388682, 31.737594487194627, 41.606542139875785, -13.14434646613887, 11.478971615373553, 18.40493806505168, 85.70975564540771, -13.242912352297864, 24.137584444070043, -12.321355032471715, -24.20137150627113, 14.416816989744689, 5.816940900299755, -13.4125235346838, 13.986209018070909, -44.95716347474832, -42.68953417496431, -12.778978404888719, -17.492844035062177, 41.20996082701288, -4.660212423012425, -16.513190039319383, -17.126833852825143, 72.54301199313267, -77.11995069758524, 44.26539130765849, 3.65277611949395, 3.0343272406756796, 3.3572109721479677, 5.177077176759752, -34.45235633821349, 42.701546231270186, -25.730792713516593, 58.29557149984501, -69.44854100359777, -78.48082918381836, 32.21077060245328, -64.62141679058873, 34.54187376714674, 39.361365670770766, 5.113267122354017, 17.744103176304236, -39.313686380305654, 2.780147769013176, -7.389505841953344, -17.3716568516669, -35.3432238062655, 24.031610238855592, 11.608398748304978, 24.372393807587287, 79.79420651874634, -31.173589758067536, 49.57202256369578, 9.581085625580243, 73.75093123306044, 37.398470056998576, 13.509260345739648, 31.452988052211566, -9.662804346701591, 5.093153961603207, -6.052885922273177, 0.9682071791133922, 3.8430530594555137, 5.589575560136865, -30.416828969984834, 2.6272392968683675, 2.183327152781658, 6.096136553542934, 33.07796056766509, -0.8576591511979643, -3.1581670693317676, -19.826520137449847, -24.67715769718191, -44.1617482544187, 2.3836952430883116, 48.552226696701496, -6.3016825329564625, 10.813227440521601, 11.428941804936187, -5.545924332781496, 46.37339023715796, 57.21976534703188, 7.936619993718409, -6.69882642902661, -29.719664722023012, 35.47118044932796, 47.91495633372719, 6.377215987469455, -29.259149309115642, -35.80972089584091, -3.8295981209294183, 19.141571307951068, -0.02948014579781244, -0.08568375551976715, 4.281149352623956, -30.804594734268775, 73.4092063440128, -5.285329291922366, 27.239278724040375, 1.2554558568432697, 15.202733464870192, -6.127771617097707, 40.8277863093916, 52.13240253654527, -6.340423446356354, -1.1876559741776305, 8.573700795964996, 51.799416078243695, -45.705995764320924, -23.750956146492094, -3.4574373929463036, 5.3254534772402735, 39.96324597441415, 4.723710735570592, 72.14484039493576, 21.720802941601306, -67.04116810493673, -14.538416468842073, 19.106444417283043, -68.76155630841059, 74.35260104741005, -35.30080587967784, 6.008864814102367, 2.8210902829310953, 43.29025124240317, 80.3711833863436, -39.35844748588917, 46.670934460648084, -27.74218809352587, 66.36005521166558, -0.9432888900079632, -1.0304831049067928, -27.73712319476182, -50.07227540465951, 58.11328035043866, -7.467748554130694, -12.898545313631644, -21.02385501260254, -16.963197275662615, 21.466223390687404, 58.19875317162658, -11.9953618541158, 3.59672394266164, 11.69851717314161, 12.702839006813235, 13.228545462552553, -49.120784580955835, -64.80925439506683, 25.002735786421226, 0.8701182222353054, 17.60475232518506, -57.56242033175274, 29.837897003904686, -64.62918012633727, 1.9638077673826047, -4.146529132312395, -10.59602774361575, 5.5790948071334014, -5.650492134063029, -7.583256583644541, 83.22749024512325, 8.12741297816504, -29.259940582297816, -0.4133717893699185, 28.3978596128419, -32.53456761088216, -18.15297062603858, -79.0259639195011, -17.229962920832207, 29.747730085701093, -52.88141087956011, -7.951348561375667, -12.73814054351756, -32.048842420641634, -13.177958968670666, -35.02599238819539, 35.398873755057764, -17.872322132799255, -18.349514974017154, -12.015294841620658, -39.85192388794911, 43.20753263225569, 16.386977081496156, 34.47647877299721, -39.85839727593978, 3.2623144845379954, -5.935879187117308, 1.3593868700608027, -8.753452195176308, 14.58962397393391, -18.837681858832653, -22.709116823305507, 73.6354827722289, -7.958338638787012, -71.00658025355861, -15.468523694429848, 15.606429345216483, -1.5121951909204725, -48.06520729864376, 5.273457183366276, 4.781519316034462, -64.84988590099425, 0.1515426509727149, -2.071001229763908, -56.6486432444312, 22.539568340184275, 36.55025766555755, -48.156805828343565, -72.27684867080477, -32.66078857246662, -57.080661747804704, 62.700952769217, -1.6697269857849761, 3.0858696202625566, 9.828985099246864, -24.969377128277074, -7.399289827892503, 24.697101600949296, 4.739416754703967, 32.59481026783649, 53.589041847602545, -20.731983923478623, -25.062747795563922, -44.820768037121695, -16.96941304669012, 47.801766767495735, -2.0876714153154268, 4.599932178934935, -16.01521082139132, 2.4457903576636397, 38.671902717468924, 8.094191862726205, 4.983220253777702, -20.150481952720284, -21.741227607707494, -27.859366286337135, -24.313375325810227, 1.3334393655946144, -1.8598784118464664, 3.2337141142890857, 5.382947469936411, -18.853646655386243, -37.2897343485094, 2.089893081146812, -8.729679132907862, -8.841742053410698, 11.347758883590103, 21.392728850191475, -21.558493845033297, 45.64463650730778, -12.607706658491722, 19.113558743029017, -4.134536406276865, -10.641238649680403, -28.652397149734668, -4.362490783404738, -20.069718434674954, 27.123267978169295, -1.2440406183462898, -17.31889639862227, -8.401337642513553, 2.7786995723750465, 0.28344824211966113, -2.6009343814241674, 8.145224283924279, -71.58560479099572, 15.337417901310658, 33.21984514313957, -4.992096283406447, -8.081157687281475, -2.320343245643727, 15.975509860751075, 34.84386156959895, -50.217170895977794, 12.56920555466911, -1.5313300160498926, 5.2466636839519225, 37.71003646089096, -5.436903588429523, -48.01724148933397, -5.8850245853280825, 20.765157221074944, -54.96452366237479, 1.1894198843370418, -11.393510450746476, -36.00992848664595, 43.32451898648634, 23.535614138531997, 28.781000023407785, 27.71515124477429, 0.5705743321413195, 5.801686706081071, -24.72634647745285, 25.052137726828803, -2.8188098619257573, -9.55435239694988, 25.556060780755985, 3.7036218613169467, 15.429744087392464, 25.308385022632365, -6.628865692120016, 12.842971000576782, -42.6681852875358, -75.57325297927524, -11.396615670329723, 16.702949561892396, -45.28621795568746, -12.35603783411608, -17.461286588636057, 41.07091309126338, -4.576521943709018, -15.100915882302317, -2.1791410762511134, 14.164939844630496, 3.0180508288619876, -0.6522207270933649, 6.125967002695589, 25.884082721036663, -11.119011359757678, 27.590325339238248, 54.53291994032446, -2.9722865338274573, -11.905807072121164, 20.278809175935592, 4.468179943280248, 15.574730735006725, 28.203766237633914, 9.819217317368896, -1.317569967840413, 11.269446543851728, -24.223572960864587, -7.599949987943802, -19.327049250457492, -13.167166567502605, -82.21254825969629, -21.430048072341933, -38.756364951976494, -17.15107412087091, -23.867030114883164, -25.81250328528887, 30.163583994635218, 1.278984042812823, 2.333461640901561, -1.5816975305423568, -1.6792432661320618, 12.632003064113121, 6.686949626413181, -23.820573515990205, 8.757535626315232, 4.4961592396149115, -7.411030694016958, -0.07562529003573104, -4.772417449001907, 78.77005057781196, 80.14669446422039, -2.9220954775054366, 26.67543929571268, 6.2911821937846355, 18.020909719009154, -29.35007678155344, 2.7208340226812027, 10.048750169469116, 71.67785091837666, -25.27250726512986, 12.62828415961053, 1.9173074804985006, -39.474982711420004, -18.190748712007107, 2.182671583895214, -3.0003423503372773, -19.638926374572407, -3.3252002715820055, -46.88059763033596, 28.571044475175455, 31.65548696892577, -19.432817631923896, -24.91591960469748, -17.64521614356454, -19.602073200611713, 1.1382744145519723, -20.167837060188006, -6.869295027874614, -18.785432336562863, -9.255311439457387, 27.146083632922085, -44.35429142665015, 13.986624034871113, 20.513397060108886, -28.003342448763476, -1.4667521091911766, 6.492693703985026, 11.408902955380967, -33.590199875176225, -4.79604593258702, -39.725971575689556, 0.39324221211147403, 4.583140874110697, -51.21680020313419, -34.00767961180016, -47.851827301459096, -0.09845456913978978, -2.939297967835202, -28.4418232095436, -13.779541261868758, -7.233343374097018, 28.129113749784864, 8.620301872283328, -47.265874655460216, 19.526630280280727, -32.6545545886559, -2.1075762614050433, 12.480128171659373, -18.38405998898199, -53.65906983525497, -26.190386161083552, -42.21887790718131, -0.6981850087258863, -2.5531715565883673, -3.118803729128217, 2.319981192614705, -4.618728634486786, 37.36204724533371, -50.2777210532394, 66.81807897300217, -17.241135416498224, 21.866395600203575, 17.776920397999945, 0.060741279660277314, 0.5413494025355163, 10.547938072361518, -43.85899035174883, 0.9025723353665001, 0.38486106610106674, -11.050788016665507, -49.21717267470422, 58.288192883474835, -5.657041000736328, 14.362834020552071, -35.77267215221953, -76.70217315911705, 94.6778600475368, -18.520202483180654, -79.99643766392327, -40.90355759967264, 1.6639076205135837, -8.606735758328682, -1.5887471667131194, 0.2387578726000612, 3.5984173449266024, 19.28113347349867, 72.91242380121255, 0.03345164512350607, -1.8922349234625528, 38.05004459657005, 4.327288732116926, 4.835433963916728, 16.547840730699548, -5.956509562377093, 7.12856588972268, -0.22554958281752135, -0.46440389178040675, -3.7736572989009147, -7.1979652013216935, -10.477911211983866, 18.488934163923034, 36.603169576666005, -3.314492358990549, 4.926282988057423, 16.713632906160413, -68.12637140081037, -18.808654729399123, 26.582271040650028, -28.06354580420134, -49.61827769132729, -18.999693963655275, 5.514728703510627, -6.432439384165647, 1.1239750026440873, 1.5863259829375238, -18.158367078542753, 22.561626618583972, 61.182098391106024, -26.871376444834006, -2.346252521874156, -1.1364507594195885, 11.528043889941799, 29.462399093284006, 39.714216716828275, -44.13246123483041, 1.5237474362695025, 11.826089691468951, 24.49362789380025, 22.98197721123981, 4.726276464954566, 11.02548258271095, -26.647567119053363, -29.0183278612123, -0.5868930730390076, -16.166229917078596, -5.743143125387789, 6.3880193201133295, -18.912470831895618, 20.541222365219596, 49.413299705321236, -53.80736085847077, 22.52103806197752, -0.7730755554720901, -34.36411935654759, 3.392465393912744, -68.56597249730336, -22.14673829394738, -1.502594438222559, 3.6188016423670035, -32.344078935760805, -12.986951830414512, 13.028647249397167, 17.119692315602094, 19.12225264805039, 80.43712090437941, -4.513550729278663, -3.4828242652363173, 1.9699970696554203, -6.191390497256592, -42.626025763401046, 19.276308793032314, 17.086128078812152, -31.04165891434218, 43.02204100822857, 64.66290110476572, 13.035537513409736, -19.101277538498522, -24.26837993459617, -40.23498113454258, -20.292006359702683, -19.52601186775616, -45.01337912281607, 1.6443406261506084, 1.6579723876510855, -27.634976547265126, -32.878392895659545, -61.75769558365572, 19.02287507696866, 21.683682740613726, -13.420062539120266, -42.352134907109054, -66.37741603075528, -5.679790803471747, 31.084564120678493, -76.61688594421273, -20.698308719175117, -5.28528092062875, 0.18815915562819896, -0.7485094419545959, 0.9797568669477386, -31.23495311384896, -2.7316466014848544, 17.382085150301094, -56.470443726899845, 80.71682161269848, 18.429042751894016, -39.55943075039499, 51.23636197146064, 38.9815657549637, 7.095895182340172, -2.338351799517696, 17.723372160701658, -36.73713774032632, 22.033063863362074, -39.616305774447724, -50.0866317586127, -9.085523933186067, 5.743185265944206, 9.128338990450672, -9.235364991179594, -19.67364416989743, -23.087502605289195, -46.93128079202196, 55.7121761314705, 6.941148379673734, 17.59569772393408, 1.6309503782478032, 6.125176819068329, -63.881475359577756, 13.718464264957646, 1.2954592283915218, -3.079531391096978, 15.191204184438249, -28.533143410847288, -59.68363578732281, -22.729907618101223, -5.795827317489739, -56.68231400807615, 0.39000146270828395, -15.582533570431494, -5.818571913457916, 3.736997869215543, 4.0904356074560155, 19.026207203077163, -22.288614044432606, -80.80063123542178, -23.79385424033211, 69.03084119696055, -12.983990006700196, 0.6132118027847469, 0.6456752972226809, -85.80511104410509, 22.891186422180112, 33.93004592195217, 38.14216901049977, 56.5570235376627, 26.46861812082323, -42.445276391577245, 7.214170650415639, -1.256932041657791, -1.679281183790991, 4.596627303610475, -4.904428995274017, 76.4248383168052, 78.6243431027874, 4.997250592666887, -39.326573384923805, 70.41354706504791, -4.381033677647906, -6.733569344614281, -7.435818285829839, 67.13442740909545, 32.01102030720756, -64.67367721035282, 6.349015887892023, -8.624024804180564, -35.98484602525082, 42.594483506004536, -25.289338698097097, 27.46939704816171, 32.03356661187985, 4.249363078009537, 5.504751409625413, -7.286494030738382, -70.43131171645946, -26.799732530598675, 32.507325326404754, -39.962699983157755, 10.947630191651257, 35.21787014616581, -0.17036068894520895, 0.3621039411322897, -15.243482554177916, -4.769672985618115, -24.433345894028164, -53.125965732181754, 74.71962198086297, 13.783806049539038, 20.951530617172324, -24.522511536026897, 30.15680391872513, 30.730397536901194, 11.671639287575232]\n",
            "\n",
            "Числа, удовлетворяющие приближённому равенству: []\n",
            "\n",
            "Конечные числа: [39.47523701047763, 75.58750183736134, -47.75211477895649, 15.87859865799021, 39.10440204875002, 92.03782394504739, 95.5350328676027, 65.4136209638803, -0.8622528963069414, -87.00989256552019, -81.00628815470529, -94.06478075219779, 16.94261352800916, 41.87295186734454, -83.82935475152406, -28.578672963070417, 54.297013063549485, 12.701392094903639, -72.88603127128302, -3.0423612885624323, 77.30734431719821, 59.647268666086916, -44.314282431132156, 92.97097478031259, -82.30208629231723, -12.842465819362744, 53.43427106538567, -16.26040448163029, -73.1787442215501, 79.74055887798175, -42.26634262362592, -58.33030082429165, 20.202651904281055, 22.540425089470716, 67.23857634961544, -99.7908917194525, -56.73860016436225, -13.645136471375153, -36.232405567531444, -35.15172789579026, -14.643913361612164, -34.13761416636578, 13.00444713529734, 19.50187245859452, -95.93489178224168, 43.24382777279206, -13.080201212742963, -39.86238828242384, -87.12084977340689, -74.98825028201637, -46.51816479135733, 44.28164185026529, 13.474235023505244, -49.880993268837194, -46.45976794783484, -23.269017742760738, -58.63471249301027, -97.9328561208935, -28.00065239782694, 82.0689416978347, -21.230615897694392, -38.86671416717924, -79.10542005549203, 51.69471092288924, 8.01127272068966, -52.118628255701836, 83.37046203033788, -0.1488149749652905, -5.200409793218427, 86.2104906772131, 91.79375728143509, 81.68610978269072, -13.211159202071855, -70.68040726774747, 98.89832308051737, -6.037598999395215, -5.651575983521042, 11.75143606486219, -88.97432973980361, -96.90041015505864, -34.89819305906168, -69.86079055060179, 23.308962087870228, -15.578530893768374, 43.303330558787934, -29.16000166005057, 23.272545673404707, 70.33563807052676, 0.05048454064930752, -31.020532132611294, 87.74759884311874, 53.23807793046362, -89.47818025438332, -51.13186141114148, 9.783465863979202, 26.023781060843817, 27.978466354797277, 92.07855923709266, -72.3707512198861, 1.2013155066357086, 90.85242948048062, 22.102398029470464, -57.16357454615342, -31.84734601087655, -25.9866650038376, 45.511124846520204, -0.5807324545142478, 62.14711536050376, 21.33322537898195, -77.64050636113674, -44.71448159530211, -94.71754308272358, -21.760100194185284, -59.06192609217966, -67.34590354862121, 53.182279202946546, -27.841389042154745, -67.75450626306518, 5.133646635880112, -22.30812385209795, 74.45208253861915, 59.46710458016787, -89.85728156130361, -87.88967318759904, 96.11737871931535, -20.918560968212162, 60.20615770607819, -5.160608035123261, 16.54729118308329, -34.642356925524396, -39.08890397470779, 95.94658571577321, -34.757572409766695, -80.12725146564345, 24.25953451640335, 60.27274392918446, 66.17781541329225, 5.837034778080152, 23.73557832140618, -43.802803273019734, 84.98302517814972, 47.63775179756152, -64.61355230948215, 44.55274238107549, -62.77450618323384, -17.70153541300526, 10.852646506207094, 79.53535884301371, 96.70329994450867, 73.32879236592638, 49.73278873067454, -6.753305838247471, 1.1926916339143787, 67.34098265595, -7.834168383438239, -51.47342888602691, 48.942581135320154, 69.18711623286399, 31.350036695529326, -91.02543498521895, -8.842008551804398, 88.54184624650193, 24.871968117054394, -5.239392061828269, -66.69406958754615, -21.909637848191494, -93.31137185111315, -41.25124033561771, -55.98536735024202, -78.94877786442053, -27.994431424610227, -76.02160880127677, 40.48396407342176, -56.95599165244809, 90.91948754674425, 61.47995767829474, -99.0382934016375, -27.060763547464788, 65.7724523948225, -55.08790758530549, 58.67567729059925, 25.64855361101634, -42.07745438357422, 63.54748854900484, 17.508833729811244, 73.10919655800893, -23.986431148586675, -45.59730825346438, -21.360884306020097, 40.80799586249134, 55.14912892440449, 61.250180263373835, -33.28307081394732, -37.4755818269348, 23.650486996572283, 86.37180884492369, -67.05294518735248, 17.460931155843312, 6.547597736527692, 34.52557912257447, -47.441783318678944, -34.32993328057887, -98.02038025400415, -40.469856436456595, 47.3101649654233, 67.19809867463474, 86.00399453537875, 68.07570514708573, 93.35496679190845, -9.620955281780198, 2.0686665862058646, 69.27057617485511, 65.1754142972868, 51.769691838320995, 26.241040464846677, 61.028435886853856, -89.02728017653594, -48.856746812638896, -29.480512206132744, 68.26047395119622, 65.70219927850763, -30.072015013789127, -32.01626548972956, 92.83402899996736, -56.14208771335794, -13.050119976293416, -75.12093738740685, -39.644206162620875, -42.16528159568325, 90.91982892768968, -75.58969645598373, -84.53556026021406, 7.564983953019876, 8.933514620061004, 34.3047362502397, -63.81818217372008, -73.32562127763617, -30.938523105335364, 39.43781995000114, -45.37611075689409, -83.28676078588816, 37.61172895315684, 2.4553378153333654, -51.80050960713323, -26.07356431614673, -86.68819488388688, -48.38508195149262, 27.494762616900132, -68.47417867883252, -79.83275559883737, 40.61956133080389, 64.42379255361007, -25.01989960513859, -53.39446212830694, 3.1836463949759235, -60.71727587814362, 4.326966892980337, 36.495383600644885, -61.93482720819272, 17.180167145565918, -62.697581625220145, -68.27615808487491, 43.37764098606556, 86.16845839445756, 88.62757742346477, -98.53392796941174, 58.15311430038443, -91.54816958335921, -36.95724067658757, 61.37121294844425, 50.112333306403286, 93.90680956874931, 44.44697009669591, 45.62441924230541, -27.317872817587997, 32.73692359837128, -79.67856717244766, -38.76378357304397, 16.495199369762318, 1.249832823097634, -46.20918143744102, -10.131340651499826, 82.09556088375285, 39.279115656171285, -16.646779362930417, -19.961823190834437, -38.73132600878692, -81.5001234135805, -6.084101275174731, -99.27937633908867, 15.22581290517924, -20.017061473484816, -31.631059607989798, -56.32479516670732, 85.16394821236796, 13.740911050442193, 7.379678361381735, 4.4332771000203905, -85.334099673597, 84.78971488933783, -99.8660051164163, 11.895021104588267, 39.04883464265981, 46.20983117035021, 76.47386390597052, -42.85178397935891, -68.97104939480671, 35.130781497370094, -61.044816119658705, 69.27887767057857, -61.095307949948285, 96.05438913520541, 64.63523972744474, -12.634866207965658, 98.86820844068225, -28.709592928443527, 2.208071096539001, -50.743585116839654, 59.45866203428676, -67.33578562577529, -29.65103613530502, -70.91327719455612, 66.7050565458255, 69.39302744007998, -43.37251518475129, -41.178572449636185, -50.19552548721889, -74.219738785739, 63.729308908802295, -32.48279829031206, -43.73811051237526, -42.13124646584747, -13.453980473950097, -36.49791321236857, -75.76537361653943, -40.966423363642555, 89.35903693616291, 22.51176199058827, -92.00550859649606, 16.952654525498062, -58.19408595528712, 15.413116631390508, -64.41333822893867, -9.457920379388682, 31.737594487194627, 41.606542139875785, -98.24307034171915, 85.09872387558028, 18.40493806505168, 85.70975564540771, -98.10459484138188, 84.86168248908402, -60.724098045013974, -24.20137150627113, 73.88385202877964, 59.467035039034954, -13.4125235346838, 13.986209018070909, -44.95716347474832, -90.45420064997738, -47.76466647501307, -17.492844035062177, 41.20996082701288, -89.68073787363238, -85.02052545061996, -17.126833852825143, 72.54301199313267, -77.11995069758524, 91.23902633360373, 46.97363502594524, 43.32085890645129, 3.3572109721479677, 5.177077176759752, -77.15390256948368, 42.701546231270186, -84.0263642133616, 58.29557149984501, -69.44854100359777, -78.48082918381836, 96.832187393042, -64.62141679058873, 73.9032394379175, 39.361365670770766, 40.60147347496249, 17.744103176304236, -39.313686380305654, 62.284624165967216, -59.50447639695404, -17.3716568516669, -95.35562660101336, 60.01240279474786, 35.980792555892265, 24.372393807587287, 79.79420651874634, -80.74561232176332, 49.57202256369578, 83.33201685864069, 73.75093123306044, 82.36071845494979, 44.962248397951214, 31.452988052211566, -61.25958176515027, 17.19892580614956, -6.052885922273177, 89.3584275465902, 3.8430530594555137, 36.0064045301217, -30.416828969984834, 88.88084085607352, 14.375600259867525, 6.096136553542934, 33.07796056766509, -92.44450416181922, -3.1581670693317676, -69.18083553181367, -24.67715769718191, -44.1617482544187, 50.93592193978981, 48.552226696701496, -73.02819026932983, 22.242169245457788, 11.428941804936187, -51.91931456993946, 46.37339023715796, 57.21976534703188, 74.07477586679104, -66.13815587307263, -29.719664722023012, 83.38613678305515, 47.91495633372719, 94.15466391481638, -29.259149309115642, -97.06403294062353, -61.25431204478262, 19.141571307951068, -37.216230041376754, -0.08568375551976715, 4.281149352623956, -30.804594734268775, 73.4092063440128, -87.00316546404349, 27.239278724040375, 62.06638971632404, 15.202733464870192, -87.7833442358809, 40.8277863093916, 52.13240253654527, -94.19263437763999, -9.761356770142626, 8.573700795964996, 51.799416078243695, -94.21620321272042, -48.51020744839949, -24.759251301907398, 5.3254534772402735, 39.96324597441415, 76.86855113050635, 72.14484039493576, 88.76197104653804, -67.04116810493673, -71.8577497206912, 19.106444417283043, -68.76155630841059, 74.35260104741005, -87.42101221911447, 52.120206339436635, 46.11134152533427, 43.29025124240317, 80.3711833863436, -86.02938194653726, 46.670934460648084, -94.10224330519145, 66.36005521166558, -74.10758933839026, -1.0304831049067928, -77.80939859942133, -50.07227540465951, 58.11328035043866, -84.85902043592056, -12.898545313631644, -21.02385501260254, -59.89564405703742, 21.466223390687404, 58.19875317162658, -73.1763263173288, 15.29524111580325, 11.69851717314161, 75.05216905032162, 62.34933004350839, -49.120784580955835, -64.80925439506683, 96.29186330939677, 71.28912752297555, 17.60475232518506, -57.56242033175274, 94.46707713024196, -64.62918012633727, 84.8943904136305, -4.146529132312395, -82.49166735396851, 71.89563961035276, -66.31654480321936, -7.583256583644541, 83.22749024512325, 95.90723472505849, -29.259940582297816, -93.88036662397614, 93.46699483460623, -32.53456761088216, -97.17893454553968, -79.0259639195011, -99.85910388609341, 82.6291409652612, -52.88141087956011, -84.38019182248102, -12.73814054351756, -32.048842420641634, -48.20395135686606, -35.02599238819539, 35.398873755057764, -36.22183710681641, -18.349514974017154, -91.71914261751888, -39.85192388794911, 43.20753263225569, 50.86345585449337, 34.47647877299721, -39.85839727593978, 84.66335871330898, -81.40104422877099, 18.86629126041342, -8.753452195176308, 14.58962397393391, -18.837681858832653, -96.3445995955344, 73.6354827722289, -78.96491889234562, -71.00658025355861, -93.50067042051226, 15.606429345216483, -49.577402489564236, -48.06520729864376, 74.90486240039499, 69.63140521702871, -64.84988590099425, 97.4886004498764, -2.071001229763908, -56.6486432444312, 59.08982600574183, 36.55025766555755, -48.156805828343565, -72.27684867080477, -89.74145032027133, -57.080661747804704, 62.700952769217, -97.33168521392423, 3.0858696202625566, 34.79836222752394, -24.969377128277074, -81.49059463074039, 24.697101600949296, 90.923268870143, 86.18385211543904, 53.589041847602545, -70.85747951460647, -25.062747795563922, -44.820768037121695, -64.77117981418586, 47.801766767495735, -89.4863828150792, 4.599932178934935, -98.25059697165645, 41.117693075132564, 38.671902717468924, 73.52885797466476, 65.43466611193855, -20.150481952720284, -49.60059389404463, -27.859366286337135, -86.49636323608638, 31.091493955138077, -1.8598784118464664, 46.297293873780376, 5.382947469936411, -18.853646655386243, -37.2897343485094, 71.38807502505708, -69.29818194391027, -20.1895009370008, 11.347758883590103, 86.06821038529137, -21.558493845033297, 45.64463650730778, -89.06194163060779, 19.113558743029017, -25.41701370563767, -10.641238649680403, -28.652397149734668, -64.5716460874296, -20.069718434674954, 63.00510139376013, -35.88183341559083, -17.31889639862227, -46.3037423328323, 18.951202345159373, 8.086251386392163, -2.6009343814241674, 79.73082907492, -71.58560479099572, 85.87399007698258, 70.53657217567192, -37.31672703253235, -8.081157687281475, -98.17340241015017, 15.975509860751075, 85.06103246557674, -50.217170895977794, 89.08515716209581, -38.25797580371335, 5.2466636839519225, 37.71003646089096, -53.45414507776349, -48.01724148933397, -68.18049624855291, 20.765157221074944, -54.96452366237479, 92.33750349030885, -11.393510450746476, -36.00992848664595, 43.32451898648634, 52.31661416193978, 28.781000023407785, 86.30259263772632, 58.58744139295203, 5.801686706081071, -87.70770724391328, 62.981360766460426, -37.92922303963162, -35.110413177705865, 25.556060780755985, 96.28208638567173, 15.429744087392464, 89.93800040917952, -32.31480769327358, 12.842971000576782, -42.6681852875358, -75.57325297927524, -94.9113634797917, 16.702949561892396, -92.56482896707566, -47.27861101138819, -17.461286588636057, 41.07091309126338, -49.87926959061597, -15.100915882302317, -73.00384029940359, 14.164939844630496, 64.02174039696257, -6.778187729788954, 6.125967002695589, 25.884082721036663, -93.88998737747242, 27.590325339238248, 54.53291994032446, -67.34151902994097, -32.184616248056756, 20.278809175935592, 51.19237214830042, 15.574730735006725, 28.203766237633914, 60.16728336413746, -12.587016511692141, 11.269446543851728, -24.223572960864587, -65.58109773931628, -19.327049250457492, -95.3797148271989, -82.21254825969629, -98.94277797629492, -38.756364951976494, -41.01810423575407, -23.867030114883164, -86.1396712745593, 30.163583994635218, 47.94821686084404, 2.333461640901561, -95.61932043393782, -1.6792432661320618, 43.13952620651651, 30.507523142403386, -23.820573515990205, 92.10786516173832, 11.90718993363187, -7.411030694016958, -83.6180933168496, -83.54246802681386, 78.77005057781196, 80.14669446422039, -82.94841336464347, 26.67543929571268, 42.333001631802944, 18.020909719009154, -29.35007678155344, 93.15958554790325, 10.048750169469116, 71.67785091837666, -79.2930816166589, 54.020574351529035, 41.392290191918505, -39.474982711420004, -65.37855555096148, 47.18780683895437, -3.0003423503372773, -19.638926374572407, -97.08639553225393, -46.88059763033596, 91.882018413027, 31.65548696892577, -81.59602658079763, -62.16320894887373, -37.24728934417625, -19.602073200611713, 21.30611147473998, -20.167837060188006, -25.654727364437477, -18.785432336562863, -36.40139507237947, 27.146083632922085, -44.35429142665015, 96.43358417285978, 82.44696013798867, -61.93356307787978, -33.930220629116306, 6.492693703985026, 11.408902955380967, -33.590199875176225, -84.24798908396613, -39.725971575689556, 50.80779182732914, 4.583140874110697, -51.21680020313419, -81.85950691325925, -47.851827301459096, -70.64160579718464, -2.939297967835202, -77.58382159529424, -49.14199838575064, -35.36245712388188, 28.129113749784864, 55.886176527743544, -47.265874655460216, 84.83573945759252, -32.6545545886559, -51.355824411028394, 49.24824814962335, -18.38405998898199, -53.65906983525497, -68.40926406826486, -42.21887790718131, -77.2933317063769, -2.5531715565883673, -37.81235286463567, 6.938709827101491, -4.618728634486786, 37.36204724533371, -50.2777210532394, 66.81807897300217, -82.84032221710895, 21.866395600203575, 40.03298718161639, 22.256066783616447, 0.5413494025355163, 10.547938072361518, -90.50415901818162, 46.645168666432795, 11.435649082766574, -11.050788016665507, -49.21717267470422, 58.288192883474835, -63.108377082944614, 14.362834020552071, -35.77267215221953, -76.70217315911705, 94.6778600475368, -98.51664014710393, -79.99643766392327, -94.20787977015831, 53.304322170485676, -8.606735758328682, -70.466157494589, 68.87741032787588, 22.879550818425272, 19.28113347349867, 72.91242380121255, 90.86072797132604, -1.8922349234625528, 76.22537107610407, 38.17532647953402, 4.835433963916728, 16.547840730699548, -48.72790490071317, 7.12856588972268, -67.44849625949439, -22.407648892225623, -10.971622500222608, -7.1979652013216935, -65.5700149525729, 55.09210374058904, 36.603169576666005, -91.80893987785004, 88.49444751885949, 16.713632906160413, -68.12637140081037, -98.5554678513492, 26.582271040650028, -28.06354580420134, -49.61827769132729, -75.97393774049108, 56.974243776835806, -6.432439384165647, 20.159886797894373, 1.5863259829375238, -18.158367078542753, 83.74372500969, 61.182098391106024, -67.21111291479232, -40.33973646995832, -12.664494649361387, 11.528043889941799, 29.462399093284006, 39.714216716828275, -44.13246123483041, 60.65419589361426, 11.826089691468951, 24.49362789380025, 71.81018400703817, 48.828206795798366, 11.02548258271095, -84.68422284147796, -29.0183278612123, -47.79675626751434, -47.20986319447533, -31.043633277396737, 25.300490152008948, -18.912470831895618, 20.541222365219596, 49.413299705321236, -53.80736085847077, 57.6582329739972, -35.13719491201968, -34.36411935654759, 71.95843789121611, -68.56597249730336, -90.29035673299856, -34.07180921952559, 3.6188016423670035, -32.344078935760805, -91.15883532679752, 13.028647249397167, 36.241944963652486, 19.12225264805039, 80.43712090437941, -84.2630580312495, -79.74950730197084, 76.26668303673452, -6.191390497256592, -42.626025763401046, 67.40409578618664, 48.12778699315433, -31.04165891434218, 43.02204100822857, 64.66290110476572, 70.3393701289053, -19.101277538498522, -24.26837993459617, -40.23498113454258, -84.83139735027491, -64.53939099057223, -45.01337912281607, 79.56904284575162, 1.6579723876510855, -60.51336944292467, -32.878392895659545, -61.75769558365572, 96.4787552638117, 77.45588018684305, -55.77219744622932, -42.352134907109054, -66.37741603075528, -67.84891904482873, 31.084564120678493, -76.61688594421273, -85.53786869241992, -32.4197799866224, 27.13449906599365, -0.7485094419545959, 32.2147099807967, -31.23495311384896, -76.5841754786858, 73.85252887720094, -56.470443726899845, 80.71682161269848, 97.54790425268399, -39.55943075039499, 51.23636197146064, 86.20090885774258, 47.21934310277888, -20.061723960219354, 17.723372160701658, -36.73713774032632, 61.6493696378098, -39.616305774447724, -50.0866317586127, -75.34192840777851, 33.12820223729622, 9.128338990450672, -68.25629750087188, -19.67364416989743, -70.01878339731115, -46.93128079202196, 55.7121761314705, 77.32393927541005, 17.59569772393408, 62.8827185689311, 6.125176819068329, -63.881475359577756, 97.18404518433971, 16.693116183876413, -3.079531391096978, 72.25749100613282, -28.533143410847288, -59.68363578732281, -85.20804894366711, -62.478141325565886, -56.68231400807615, 93.88520288529725, -15.582533570431494, -79.09297510942572, 73.2744031959678, 4.0904356074560155, 85.89204933637498, -22.288614044432606, -80.80063123542178, -92.82469543729266, 69.03084119696055, -89.78688688176129, 76.8028968750611, 0.6456752972226809, -85.80511104410509, 90.75127826608446, 33.93004592195217, 38.14216901049977, 56.5570235376627, 68.91389451240047, -42.445276391577245, 93.9226632484521, -17.34169851960729, -16.0847664779495, 14.40548529415851, -4.904428995274017, 76.4248383168052, 78.6243431027874, 83.6503973625145, -39.326573384923805, 70.41354706504791, -85.47278588056058, -81.09175220291267, -7.435818285829839, 67.13442740909545, 96.68469751756038, -64.67367721035282, 75.34121432133654, -8.624024804180564, -78.57932953125535, 42.594483506004536, -84.79230235813866, 59.50296366004156, 32.03356661187985, 92.32538563201615, 5.504751409625413, -77.71780574719784, -70.43131171645946, -91.81438318340818, 32.507325326404754, -39.962699983157755, 81.38337048398287, 35.21787014616581, -74.76377256219689, 0.3621039411322897, -93.31319322188052, -78.06971066770261, -24.433345894028164, -53.125965732181754, 74.71962198086297, 76.63839790105601, 20.951530617172324, -24.522511536026897, 60.887201455626325, 30.730397536901194, 90.62211330853049]\n",
            "\n",
            "Обработанные значения (ldexp): [0.47523701047762756, 1.1750036747226886, -3.008459115825957, 7.028789263921681, 1.670432780000283, 1.2103662415165672, 34.242103526572464, 52.94348337667907, -220.736741454577, -5.064993546337064, -6.439070418215124, -132.67098050107597, 3860.945010725525, 7151.22169728647, -13588.148248970276, -18961.955653891433, 19465.048132779077, 91932.86466320977, -232267.78157921508, -22209.515257820487, 322273.87475043535, 1357420.7776215076, -1318196.058027327, 8145126.809928417, -5068166.976845264, -28268462.048131466, 29143437.86610222, -34950897.885435104, -47981286.61916733, 397584520.2117615, -285983214.5010376, -709315619.0872345, 870383301.3592529, 4642216170.429199, 4098710476.789551, -27174832557.805664, -50756216812.09766, -88666881472.41992, -63883155965.17578, -83413292839.6875, -707990228372.9062, -302616752131.75, 19558707878.875, 4414516831081.625, -16446790164591.25, 8578927083507.0, -5643658622248.0, -121370360855396.0, -34016187155192.0, -556335450229712.0, -583401690318344.0, 634201065953344.0, 2135764675144256.0, -7935281914502208.0, -8282443034183552.0, -9692385648426496.0, -4.573585515213517e+16, -1.344387353102807e+17, -188040871059456.0, 3.974218299886797e+16, -2.6588202775607706e+17, -1.9985068033767178e+18, -4.861641959744471e+17, 6.407577299874218e+18, 2.0794499357658317e+17, -4.376610145684685e+18, 2.7335273050678493e+19, -2.1961214060161663e+19, -5.915053064584587e+19, 1.2425176487846058e+20, 9.37103195345701e+20, 1.6200309206738188e+21, -9.971711384136251e+20, -6.426264951823123e+21, 1.6968843224893786e+22, -1.42045003626718e+21, -4.923168936996147e+22, 1.1355380757518938e+23, -2.944730948167462e+23, -5.44264542346799e+23, -1.0858487800983158e+24, -2.0812638438055973e+24, 1.4940489812334485e+24, -5.595207479370522e+24, 5.867266310349866e+24, -6.189764416522704e+24, 2.1087200102605224e+25, 5.193747577669511e+25, 1.5624208558677032e+25, -1.2708774525718792e+25, 9.254825412201147e+26, 5.894524051822261e+26, -2.3678339315871113e+27, -1.3058921639096642e+27, 1.5518140198930693e+28, 9.42064876647759e+26, 7.752209137261849e+28, 1.244820800674813e+28, -1.1749575160599152e+29, 1.2759886141100307e+29, 1.0805827425834997e+30, 2.5960984704084394e+29, -8.29421486453772e+29, -8.593109434309229e+30, -2.0011943749422767e+31, 2.0733686991452737e+31, -4.711461405036795e+31, 2.387083200580934e+31, 1.0813781802950364e+32, -4.157123958502361e+32, -9.274501356920256e+32, -1.8628483471445203e+33, -3.946665850439964e+33, -6.430773077715833e+32, -7.184135635447805e+33, 7.571581862684669e+33, -6.989986688617136e+34, -1.2536385598266218e+35, 4.441171248857937e+34, -2.0478342518884275e+35, 6.00920766738092e+35, 1.2417769698369852e+36, -4.558090606219836e+36, -9.460628064446838e+36, 2.496369277173579e+36, -3.9071262553052937e+37, 1.7537958045819168e+37, -2.732604116913217e+37, 1.862335391745421e+38, -4.37165470050997e+38, -1.210098197689844e+38, 2.5768514228548696e+39, -4.1246165233505605e+39, -1.385645757546014e+39, 5.652161250522412e+39, 1.1879673572634117e+40, 1.5489907125788684e+40, 1.4583202584589143e+41, 2.5631163623815763e+41, -5.5947222612998434e+41, 1.370137126353563e+42, 1.7777925421655442e+42, -3.4206684299328307e+42, 6.163283500396805e+42, -1.7272065046984322e+43, -3.12895249863525e+43, 7.605860991736705e+43, 9.551120918263137e+43, 2.509458057700578e+44, 2.3463407282387647e+44, 1.0458710250961697e+45, -2.150308039081263e+45, 1.100074759632154e+45, 3.893333671659106e+45, -1.9049038409447802e+46, -2.1622409127752275e+46, 8.609899203672664e+46, 3.418383508773816e+46, 1.2789480091050215e+47, -1.858663627149181e+46, -1.2305968771087495e+48, 1.5838183528883586e+48, 5.0975313231013626e+48, -2.7989751226082897e+48, -1.623014141792459e+49, -4.2541990544320887e+49, -2.912451009411995e+49, -4.700008471921243e+49, -3.6866969491228894e+50, -7.0995988598473175e+50, -1.4882438710078961e+51, -6.467849921895897e+49, 2.8971593142896026e+51, -1.1445726128763377e+52, 2.201735258230123e+52, 2.298540630596973e+52, -3.667779203378758e+51, -1.163998319212252e+52, 2.9594496264916233e+53, -6.735899124447339e+52, 1.0354724349077012e+54, 1.987811033790021e+54, -4.747939897920377e+53, 6.712190080200416e+54, 1.2476566751646227e+55, 5.354983623250945e+54, -9.674888554113898e+55, -1.171676460744383e+56, -1.4158171897453547e+56, 6.339840288287051e+56, 2.340243575439489e+56, 7.852034826916984e+56, -1.776864297466035e+57, -5.9705510223415995e+57, 1.6332692220121396e+58, 1.8671055565620974e+58, -5.317477238569779e+57, 9.258597626361096e+58, 2.1998890894411474e+59, 4.222865436665876e+59, -7.099184221041881e+59, -1.0603646812587268e+60, -1.309992220437353e+59, -6.040241464656479e+60, 7.974654126959528e+60, 1.0186633497210878e+61, 4.108141356322849e+59, 1.557164556777965e+61, 1.4602486844576178e+62, -5.108923730309945e+62, 1.1299118053743972e+62, 8.904686576532405e+62, 1.154580102418949e+63, 1.013225142152107e+64, 6.3461309344644536e+63, 1.4973242051036933e+63, -2.8729379081225327e+63, -1.8045194043746826e+65, -2.0241536641021356e+65, 2.194488697635011e+65, 1.1832034436423436e+66, -2.426901163736216e+65, -1.0962918390602241e+65, 1.1242688678988486e+67, -3.8306771741873995e+66, -2.7024637756587188e+66, -1.3041862058213349e+67, -1.389421102952686e+68, -7.12957280749103e+67, 7.935532426693152e+68, -1.017483840200258e+69, -1.848150534709279e+69, 3.899375933750222e+69, 1.2885762237363232e+70, 8.412849207305999e+69, -4.517508662785391e+70, -3.5957687413803787e+70, -2.0727834923606019e+71, 1.9339022339023415e+71, -3.3226509342495226e+71, -5.06662452840043e+71, 2.161663010650239e+72, 3.2180491300174344e+72, -1.1315024397521945e+73, -2.079630336900448e+72, -3.8909923538913087e+73, -4.354437860440787e+73, 1.1189374431130512e+74, -2.14477108960185e+74, -7.533321141675858e+74, 1.1209422016317878e+75, 1.5334945370539806e+75, -1.440135533746889e+74, -5.709449245207372e+75, 5.316199938790888e+75, -4.1527436244890034e+76, 3.7860179649627233e+76, 1.1472300418515113e+77, -4.3298238205009134e+77, 1.6689544157601006e+77, -1.2923909407648503e+78, -1.0232614914381328e+78, 2.7985816805229524e+78, 2.4967871288070037e+78, 1.860313626141639e+79, -3.1654213161176406e+79, 1.8154930927230187e+79, -1.2999414029007305e+80, -4.540043175731875e+80, 3.521210192060758e+80, 2.1311173819387268e+80, 3.4406850398084236e+81, 3.391855088305719e+81, 9.476873732295897e+81, -9.64877553769289e+81, 4.473745470321646e+82, -8.238945857497722e+82, -1.854723234681931e+83, 2.405021027717604e+83, 2.426712268443537e+83, -4.063702713477275e+83, -5.103027959067463e+83, 7.425726247210663e+83, 4.3378344206170265e+84, -2.010365037597593e+85, -5.9792127764971256e+85, -9.092635439014108e+85, -1.2436149732308135e+86, -4.182551835608748e+85, -2.778806902637917e+86, 4.4920801930734257e+86, -6.78805376911068e+85, -5.021449705807639e+87, -5.168901871268468e+87, 5.218256357019566e+87, 4.716445203170383e+88, 4.8338655098145074e+88, 1.1032513005792638e+89, -1.7014326369967207e+89, 8.043388203140837e+89, -1.7640835778297453e+90, 3.6463803792498604e+90, 3.979116959579096e+89, 3.419469143678038e+90, 1.5444445189573231e+91, -5.552366752062264e+91, -1.2659600332922262e+92, 3.4100046743267325e+91, -2.3370764304510353e+91, 2.9085893015802746e+92, -1.9880522022435213e+92, 2.2690329627677562e+92, 5.300249306733983e+93, -1.059426554499151e+94, 2.8976280840225e+94, -4.73650404980165e+94, 2.777732279732216e+94, -1.985360212091545e+95, 2.4492403977640807e+95, -3.5861687175230177e+95, -1.3906047449275743e+96, -3.901496495548165e+96, 6.023966565897775e+96, 6.716012134176089e+96, -1.2731001684999123e+97, -1.2205709996656994e+97, -2.672895397706644e+97, -6.007797729632001e+97, 3.9879535984213197e+98, -5.280004552045276e+98, -1.6144327531627425e+99, -5.74137855100167e+98, -3.971876482738736e+99, -8.712488277057592e+99, -2.6785023960090785e+100, -6.764192648238127e+100, 5.025944312615641e+100, 1.4327702845831533e+101, -3.084462509705595e+99, 1.0668514822980875e+102, -4.347029978848872e+101, 1.8505516061261942e+102, -3.7030885000258886e+102, -8.204998096574925e+102, 2.6432373992856007e+103, 4.347198619827403e+103, -3.4842593270068537e+103, 2.8302884001067492e+103, 2.3218122293943195e+104, 8.139117952168623e+104, -2.3988812394904747e+104, 3.9525351922741494e+105, -6.642871456322668e+105, -3.694762167461379e+105, 3.243381447593804e+106, 3.4276614900657155e+106, -6.055181797508011e+106, 2.895192343068873e+107, -5.6198479478054915e+107, -5.333547837977155e+107, -1.795851778187764e+108, -2.3149304060192056e+108, 1.972407771816621e+108, -1.278993507146048e+109, -7.712783169854339e+107, -9.53199053750779e+108, 8.16183544850533e+109, -3.605879310238201e+109, 1.4370906185540326e+110, 1.1707511390784037e+111, 7.716360241798198e+110, 1.7181187668450097e+111, 1.7034169960761234e+111, -2.960971677947685e+111, 2.6994461866762744e+112, -2.0289119106190463e+111, 4.54926174545731e+112, -1.3807355783668946e+113, -2.9602553875340992e+113, 1.024682900537577e+114, -1.5303167645825324e+114, 4.4486807412066794e+114, 3.5596330997184943e+114, 1.184963079371946e+115, 2.9319157963496323e+115, -2.4719745401055885e+115, 4.4859052604335415e+115, -1.590190569497427e+116, -2.343044091569856e+116, -4.483968491753901e+116, 3.127647971249005e+115, 4.946584878674508e+117, 3.756304157197619e+117, 1.6022185048504322e+118, -3.008370823395975e+118, 4.615953735519982e+118, 5.358440579673171e+118, 2.4238651062774717e+119, 2.328662965794484e+119, 1.2423829041494227e+120, 1.1697283425981428e+120, -1.3406099628257527e+120, 2.05470455471217e+120, -1.0925173307393959e+120, 1.4808791815768816e+121, 6.966315711999346e+121, 1.0584382160615618e+120, -1.3777363928658309e+122, 5.822851054617119e+122, 4.96585587329192e+122, 2.542065701539186e+122, 4.122903886822567e+122, -4.7014740691632826e+123, -3.345833127930434e+123, -7.65071409118629e+123, -5.729780960439838e+124, -2.737271015037014e+124, 3.167727537253375e+125, 3.738140200753623e+125, -3.8165188203082565e+124, 6.5571809348526704e+125, 2.3228787950938437e+126, -9.956857997792378e+126, 8.088185895691158e+126, 9.520886211456888e+126, 6.479024365723142e+126, -2.394128764583089e+127, -2.494240705851357e+128, 2.676574390405796e+128, 1.268435848984635e+129, 4.288319493854656e+128, -1.4370708712745767e+129, -7.101687755692392e+128, -5.640986395349385e+129, 6.280487601807546e+129, -1.9185103445882096e+130, -1.520465614131939e+130, 9.97803890613925e+130, -5.711041115535933e+131, 5.8091214268737095e+131, -8.987429090525342e+129, 1.358726894785833e+132, 7.539783862392484e+131, 4.604829155571215e+132, -3.5585307818249565e+133, 7.520839313844473e+133, 2.4058822689016853e+133, -7.000706264966439e+133, -5.533835835442901e+134, 8.339759093331436e+134, 2.3241862499681773e+135, -1.2571589385785491e+135, -5.933416494732845e+135, -1.765930392634085e+136, 1.5139340173752943e+136, 8.961593282893562e+136, 1.6161192849478157e+137, 5.390111123536713e+136, 5.671219849378764e+137, -6.128142924570771e+136, -2.5536336394326302e+138, 6.337980372287205e+137, -9.06901283937362e+138, 8.397917240846374e+138, -2.0054539256071872e+139, 1.1451842220309658e+139, 2.1214614581434476e+139, 1.106068597655664e+140, 2.8289580034656314e+140, -4.4786645023506993e+139, 2.045399101450389e+141, -6.233943159393084e+140, 4.390632168166985e+141, -2.623959852728408e+141, -1.4868841961236075e+141, -7.896059076160395e+142, -1.4101602482457376e+142, 4.420409622014573e+142, -6.704114501317017e+143, -1.4025162651114061e+144, -7.446935100974507e+142, -5.591951073311416e+144, 5.8217287760072346e+144, 4.963659403167799e+144, -8.807142808059874e+144, 2.9493392808079134e+145, 1.3955807824804138e+146, 2.0845908123249925e+145, 2.791732625674581e+146, -1.9305425433569408e+146, -2.5869196642680033e+147, 1.8659816714236062e+147, 3.696981711689197e+147, 1.5465551416907272e+148, -2.876595986951957e+148, 4.777893410303494e+148, -1.2872201976420894e+149, 3.659611474713045e+149, -1.1991177137364118e+149, -8.04709649344833e+149, 2.931778288588483e+150, -2.0723495716731583e+150, -7.636906491582526e+150, 5.957315454195481e+150, 4.7515738050619033e+151, -2.7228385942551156e+151, -1.8443416565943964e+152, 1.9566803270861197e+152, -4.479612407672713e+152, -2.9989000232844213e+152, -8.702981144479245e+151, -5.759349948303847e+153, 8.435401223080862e+153, -2.363557556100737e+154, -2.039015572944159e+154, -7.917477306229498e+154, -1.0477916716743882e+154, -8.750529983716056e+154, -2.2304060708115792e+154, 6.845469051020119e+155, -7.614334259017139e+155, -2.3993495758135706e+156, -9.87353711608767e+156, -2.339314045040976e+157, 1.1397356226476958e+157, 9.483919567283425e+157, 1.0466977171114112e+158, -3.7713431112536883e+158, 5.828893878976948e+158, -7.047903957186414e+158, 3.04482007934855e+159, -5.2964319912617905e+159, 8.28958571851453e+159, -2.3554115438380054e+160, -1.9379048424296734e+160, 7.147455525437846e+160, -2.1705434576945306e+161, -2.960399350642311e+159, -4.504946122724739e+161, 1.091309338644094e+162, -2.0781472202432987e+162, -4.693792245973176e+161, 1.3026873392961562e+163, 1.8180080901356945e+163, -4.894161156826642e+163, 5.6273185381605166e+163, -1.6354734695136135e+163, -2.9882266010713847e+164, 8.276366465855933e+163, 1.0139901141524518e+165, -5.779094767203417e+164, -2.0406571894120723e+165, -1.0930490814749543e+166, -2.3782375416827042e+165, 4.133389707186799e+166, -3.9117735444342006e+166, 2.0254295019036447e+166, 3.766236310090212e+167, -9.145982143997721e+167, -9.257428511167144e+167, 2.6308352482655822e+168, 6.9687640478542796e+168, 2.775403901563524e+168, 1.7784174395995678e+169, -5.177752749086435e+169, -7.577850326356036e+168, -1.9824305482187582e+170, -3.7253166611433996e+170, 7.746144394238806e+170, -9.398223197121587e+170, 2.318460416759561e+171, -1.9368828002416817e+171, 1.8193172201963352e+171, 2.0772746107807378e+172, 3.2700663799022004e+172, 5.375307198625803e+172, -3.72187617807646e+172, -2.9709025787270634e+173, -8.50189634448858e+173, -9.821257476618723e+173, 3.620677865066044e+173, -6.805570330241346e+174, 4.705908042086069e+174, 1.2123462589757725e+175, -5.404998911817018e+175, -3.668997772153748e+175, 9.828633779102921e+175, -1.5103889387388232e+176, -1.919768282232326e+176, 7.046049324579129e+176, 2.7640630441981696e+176, -4.526325986503661e+177, 1.0448942278682418e+178, -2.0080293794445607e+177, 7.3627151903353595e+177, -5.407515199938357e+178, -1.6630186001356613e+179, -3.383915162396986e+179, -5.930135849197566e+179, -1.4464886506086654e+179, 2.1168312830644744e+178, -7.31836297430733e+180, -5.293062283772783e+180, -1.0083068312126894e+181, 6.315246304631891e+181, 1.1452847061499279e+181, -1.595895405821089e+182, 3.881710879451411e+182, -6.22073906546695e+182, 1.856837340921196e+183, 2.279950947101679e+183, -2.6916121652806803e+183, -1.3793897959786793e+183, -5.894438916912225e+183, 6.6320684724773086e+184, 8.298665283351135e+183, -5.905802945938672e+184, 4.63157290491302e+184, -2.8061849718702305e+185, 5.366270115635754e+185, 3.0894271747223244e+186, -3.9520453435542046e+186, -3.000765657257113e+185, -6.282832456407488e+186, 5.326819434050366e+187, -1.3429510296253809e+188, 9.398435258632479e+187, -2.1916114061822988e+188, -1.1059113951413158e+187, 7.229485376635068e+188, 1.4106770630356178e+189, 6.95950435382727e+189, 5.392816175609384e+189, 2.0938800559975805e+190, 5.715074985050039e+190, -1.0090225859423094e+191, 2.7983751383999363e+191, -5.299406173557093e+191, -1.2593839167149449e+191, 1.2684971459939076e+192, 1.2870023836669515e+192, 3.9213637590047227e+192, 1.7118284664747577e+193, -1.1490331252250613e+193, 6.1536082120146105e+193, -9.755378227042863e+193, -1.6738769131637017e+194, -5.322293449752538e+194, 8.210344021293042e+194, -1.3194232941545267e+195, -1.3016537035512758e+195, -4.310205784796213e+195, 1.325206601323259e+195, -3.286315248899144e+196, -7.543565850693997e+195, -5.741326494196814e+194, 4.931769116960147e+196, 1.3000936016479872e+196, -9.307253129935134e+197, 3.0131721054636155e+197, 4.22950985090531e+198, -8.515516230850289e+198, 1.129662090723589e+199, 2.039619219978134e+199, -2.6141591813276514e+199, -2.8262920515044266e+199, 8.536585117806245e+199, 1.1780108834302926e+200, 7.038847014615676e+200, 4.991135104101102e+200, 8.195016807236223e+200, -5.751450784417844e+201, 5.279948707158136e+201, -8.762062773550175e+201, -4.554768027195555e+202, -5.126963567453439e+202, -1.1905143230552371e+203, -1.3327988763333416e+203, -1.1823511791939807e+204, -1.897135943681939e+204, -9.081911130914355e+202, -8.698837728539547e+204, -2.8026194981552884e+204, 6.564895958705182e+204, 7.61070183132819e+205, 5.352946621995643e+205, -1.9883481745109993e+206, -4.361464709553509e+206, 1.791813496348465e+206, 1.3035354991321767e+207, -4.2151642688670454e+207, 1.1081746284883686e+207, 1.8640399763360478e+208, -1.689122898622613e+208, -5.080085697605736e+208, -8.917048572767856e+208, 2.5316066814729677e+209, 9.645410222550858e+208, -1.2471957972173531e+210, 1.7764512443474036e+210, 1.7516338387208564e+210, 2.199759273026795e+209, -7.365805787791034e+210, 6.715533359153139e+210, 4.102920266097044e+210, 1.1409881445281988e+212, -9.86655445677628e+211, 1.3852657296506127e+211, 5.282559289179726e+212, -1.27921848983304e+213, -2.039043731807133e+213, 2.0231976880951498e+213, -7.376114892878941e+210, -2.753199768645189e+214, -7.445745515598376e+213, -1.5178344727015002e+215, 3.0405667849437402e+215, 4.519297729486616e+215, -8.218688398113428e+215, -4.501019041069447e+215, -1.363962030846752e+216, -6.641652823014102e+216, 6.753617793644196e+216, -7.405846886866885e+216, -5.777997550998991e+217, -1.38629492629646e+218, -1.4169316091954058e+218, 1.031355546276941e+218, -5.002619671553358e+218, 1.2244477564309792e+219, 2.5244433373323006e+219, -1.0545580653068446e+220, -2.1015648330422303e+220, 2.2261982358741882e+220, 3.6951924920092585e+220, -1.0667089189923244e+221, -8.964155324513559e+220, -5.2483938902341254e+221, 1.16798228280725e+222, 1.6863211196230856e+222, -1.25388144619875e+222, -9.942054996583805e+222, -1.9706447378261933e+223, -2.9686230667059736e+223, -8.692008788141254e+223, -1.0805053584220037e+224, -5.256058286556316e+223, -2.6832639813895257e+224, 1.9116538286761073e+224, 2.6241399618035754e+225, -1.5746124759147754e+225, 9.899144198318289e+225, -1.55061010938527e+226, -1.6858637567255405e+226, 2.3523543925196833e+226, -7.278565447062354e+226, -2.4980904378002574e+227, -3.1024896020985776e+227, -3.31847569242087e+227, -8.89458557022622e+227, -3.354722069334319e+228, -9.853066559993648e+228, 2.2771312343680228e+229, -3.0018356227038975e+229, 3.513030616551392e+229, -5.389586997087144e+229, 3.1752060162916417e+230, -6.523077227119432e+230, 1.3450948444057814e+231, 1.0242639254691455e+230, 1.5901932576071387e+231, 6.723637933540547e+231, 1.3610940332826106e+232, -2.50469119079531e+232, 6.410470574223587e+232, 8.657319460983229e+232, -2.0185424574789014e+232, -1.7262822739540096e+233, 4.5816285764299924e+233, -3.445911184635648e+233, 2.3073029382524856e+234, -9.8270207650836e+234, -1.786079696416224e+235, 3.448471512182605e+235, -5.256597835531864e+235, -2.0276674574296497e+236, -8.460359544185703e+235, 2.4770808411179354e+236, -9.877252913769423e+236, -1.5177465341379649e+237, 5.713461650228715e+237, 1.1454799905685557e+238, 7.322664292401478e+237, 4.7531680276471973e+238, 8.967728961852264e+238, -1.8591985459899233e+239, 9.392359926347431e+238, 1.461349369998587e+239, 1.3926714322786922e+240, 1.8265049496120153e+240, -4.8536803837193974e+240, 1.7145584164937342e+240, -1.1962318125604907e+241, -2.1745669575263516e+241, -1.0366068567672258e+242, -4.224111422787258e+241, -2.43255547565661e+242, 7.86110811609514e+241, 1.029617521326836e+243, -2.761739663788089e+243, 3.37611078866606e+243, 9.745437732977927e+243, -3.451479345179833e+243, -3.0342083787139233e+244, 6.361238246035223e+244, -1.3884599158816455e+244, -2.7018425593351545e+245, -8.512118338775841e+245, 1.70295861315752e+246, -1.5117907682720283e+246, 1.1179156842601496e+246, 8.199088618287663e+246, -4.429159713120584e+246, 4.160052557476299e+247, 2.037147783825896e+247, -4.7234706895988656e+247, -1.5202625188653313e+248, -5.946999505437962e+248, 9.451623892988088e+248, 1.655325400568823e+249, 5.113595982553404e+249, -1.8967722886153106e+249, 1.8735453341079596e+250, 4.731660660404383e+250, 5.6547847288098273e+250, 1.8562225547081047e+251, 3.795029575919585e+251, 2.335338361131157e+250, -1.2541051018184483e+252, -6.718590160514246e+250, -5.841465905097193e+252, -3.077248953652871e+252, -1.2795998607496212e+252, 1.7624491196072316e+253, -1.0703734572265277e+254, 1.2697612546911257e+254, 1.9392840581495036e+254, -7.57659403985942e+254, 1.2354237823895384e+255, -5.149965554070649e+254, -2.7336321969745723e+255, 1.4390977195338026e+256, -1.699619219258249e+256, -1.7438864474747572e+256, -8.62574278482724e+255, 1.4866123980039253e+257, -1.653234176423333e+257, -1.5263473778445297e+257, 5.505784497873876e+256, 9.299998137679769e+257, 9.398413441067551e+257, 6.720906333902375e+258, -8.089241995500967e+258, -4.609588168997328e+259, 3.2802855096175e+259, -4.708327027596203e+259, -3.080125778492562e+260, 3.9764045532303194e+260, 2.5149125469365574e+260, -1.639736936988101e+260, 1.7351126831575492e+260, 1.0436982760772768e+262, 1.0686360784261013e+262, -6.378217901665077e+261, -3.380385678141201e+262, -5.91942063803189e+262, -4.1887538275806346e+263, -5.435129365218317e+263, -2.6962728176580814e+262, 2.2935655471226448e+264, 5.3040041203971e+264, -8.276680577065012e+264, -2.8323374204428615e+265, -4.886308997936542e+265, 6.17489715879241e+265, 1.175971726378353e+266, -3.983864138670673e+266, -3.6334169071812254e+266, -7.788547851990116e+266, -3.5037444434369716e+267, 6.980431638241316e+266, -1.0184295958188877e+268, -1.775956804215844e+268, -2.772093390160219e+268, 1.7763780251825235e+268, -1.9771672234401084e+269, 1.1343010863513932e+269, -2.4824889023940134e+269, -1.234466842453056e+270, 3.6030907476838814e+270, -3.9765255700522945e+270, 1.2118174009230585e+271, 1.85251084978513e+271, -3.782965836579756e+271, 3.1966396644121493e+271, 5.434319401068345e+271, 1.1865882791977977e+272, -6.6782065917787834e+271, 1.565300967319451e+273, -3.1901764559511226e+273, 5.620669289930162e+273, -1.0668964909811747e+274, -2.999391636537526e+273, -2.367670293224658e+274, 1.775463061073448e+274, 3.5547138902753215e+274, -1.419777860481613e+275, -7.463397614173272e+275, -4.162077516368292e+274, -4.127115858427387e+276, 6.31223886794406e+276, 5.742349384484208e+276, 2.111941785411138e+277, 6.259047686709652e+277, 1.7751698160559644e+277, -2.5000930101369037e+278, 1.0439998666269603e+278, 7.863429908476423e+278, -1.8045734148554372e+278, 1.168498168641558e+279, -4.838826089925746e+279, -1.2409399108758975e+280, -7.55303459531085e+279, -3.4717003699143225e+280, -9.908324872074982e+280, 2.5709212067779792e+281, -3.383739331982675e+281, -1.0801215608095454e+281, 6.375659252257365e+281, 4.20247741923608e+281, 8.290577789912392e+282, -5.36467455119304e+282, -2.976380461319092e+283, -6.13168029799333e+283, 4.5861381358033754e+282, -2.3402281964767944e+284, 4.775684915919285e+284, 7.681040674852357e+284, -1.9155419772583524e+285, 3.574923150846258e+285, 8.851161674263598e+285, 2.706018847676348e+285, 2.120456752446842e+286, 6.957960153623374e+286, -6.7802472777864984e+286, 2.8098884634200163e+287, -2.0812246067522343e+287, -1.0325949315728709e+287, 9.878953796448936e+287, -4.406972279980152e+288, 4.140182801341239e+288, 1.2168839175030128e+289, 2.535330611956051e+289, -2.5460481470786226e+289, 6.448233611815557e+289, -1.4743829971901114e+290, -5.7225857831787995e+289, -5.4363981405719825e+290, 3.353695522237701e+290, 3.416367263463409e+291, -6.722760660185304e+291, 6.81009296713993e+291, -2.4909077166661606e+292, -4.624996923933159e+292, 9.491953157099035e+292, -2.5300943739400695e+293, 3.2122724702145915e+293, 4.287590210835759e+292, 8.312547334672178e+293, 2.57895221663967e+294, -7.3350433007265e+294, -8.814892131168287e+294, -3.3287757513794704e+295, 4.147365218248566e+295, -1.5740071382013077e+296, 1.253615641262247e+296, 1.4248641166112873e+296, -9.990098563558076e+296, 9.472594961409128e+296, -1.6386193015497098e+297, -7.294490278910812e+296, -9.069020612109498e+297, -5.272397118877728e+297, 6.024071456367979e+298, 1.0688263215486897e+299, 3.186166394691894e+299, -3.4992225512933614e+299, 1.1883049950147409e+300, 1.9565681186431958e+300, 3.332998823677714e+300]\n"
          ]
        }
      ]
    }
  ]
}